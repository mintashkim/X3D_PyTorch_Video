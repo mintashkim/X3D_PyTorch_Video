{
 "cells": [
  {
   "cell_type": "code",
   "execution_count": 1,
   "id": "365cfe97-27b2-44cb-a1fd-658b8732aa73",
   "metadata": {},
   "outputs": [
    {
     "name": "stderr",
     "output_type": "stream",
     "text": [
      "/home/ados/anaconda3/envs/i3d/lib/python3.7/site-packages/torchvision/transforms/_functional_video.py:6: UserWarning: The _functional_video module is deprecated. Please use the functional module instead.\n",
      "  \"The _functional_video module is deprecated. Please use the functional module instead.\"\n",
      "/home/ados/anaconda3/envs/i3d/lib/python3.7/site-packages/torchvision/transforms/_transforms_video.py:26: UserWarning: The _transforms_video module is deprecated. Please use the transforms module instead.\n",
      "  \"The _transforms_video module is deprecated. Please use the transforms module instead.\"\n"
     ]
    }
   ],
   "source": [
    "import torch\n",
    "\n",
    "import json\n",
    "import urllib\n",
    "from pytorchvideo.data.encoded_video import EncodedVideo\n",
    "\n",
    "from torchvision.transforms import Compose, Lambda, TenCrop\n",
    "from torchvision.transforms._transforms_video import (\n",
    "    CenterCropVideo,\n",
    "    NormalizeVideo,\n",
    "    RandomCropVideo,\n",
    ")\n",
    "from pytorchvideo.transforms import (\n",
    "    ApplyTransformToKey,\n",
    "    ShortSideScale,\n",
    "    UniformTemporalSubsample\n",
    ")"
   ]
  },
  {
   "cell_type": "code",
   "execution_count": 3,
   "id": "147f0fd6-8ee1-4e9f-94fc-ed0948dff312",
   "metadata": {},
   "outputs": [
    {
     "name": "stderr",
     "output_type": "stream",
     "text": [
      "Downloading: \"https://github.com/facebookresearch/pytorchvideo/archive/main.zip\" to /home/ados/.cache/torch/hub/main.zip\n"
     ]
    },
    {
     "data": {
      "text/plain": [
       "['c2d_r50',\n",
       " 'csn_r101',\n",
       " 'efficient_x3d_s',\n",
       " 'efficient_x3d_xs',\n",
       " 'i3d_r50',\n",
       " 'mvit_base_16',\n",
       " 'mvit_base_16x4',\n",
       " 'mvit_base_32x3',\n",
       " 'r2plus1d_r50',\n",
       " 'slow_r50',\n",
       " 'slow_r50_detection',\n",
       " 'slowfast_16x8_r101_50_50',\n",
       " 'slowfast_r101',\n",
       " 'slowfast_r50',\n",
       " 'slowfast_r50_detection',\n",
       " 'x3d_l',\n",
       " 'x3d_m',\n",
       " 'x3d_s',\n",
       " 'x3d_xs']"
      ]
     },
     "execution_count": 3,
     "metadata": {},
     "output_type": "execute_result"
    }
   ],
   "source": [
    "\n",
    "\n",
    "torch.hub.list('facebookresearch/pytorchvideo:main','i3d')"
   ]
  },
  {
   "cell_type": "code",
   "execution_count": 4,
   "id": "ffdd9173-e3b2-458a-8faf-e09c9ee7105a",
   "metadata": {
    "scrolled": true,
    "tags": []
   },
   "outputs": [
    {
     "name": "stderr",
     "output_type": "stream",
     "text": [
      "Using cache found in /home/ados/.cache/torch/hub/facebookresearch_pytorchvideo_main\n"
     ]
    },
    {
     "data": {
      "text/plain": [
       "Net(\n",
       "  (blocks): ModuleList(\n",
       "    (0): ResNetBasicStem(\n",
       "      (conv): Conv2plus1d(\n",
       "        (conv_t): Conv3d(3, 24, kernel_size=(1, 3, 3), stride=(1, 2, 2), padding=(0, 1, 1), bias=False)\n",
       "        (conv_xy): Conv3d(24, 24, kernel_size=(5, 1, 1), stride=(1, 1, 1), padding=(2, 0, 0), groups=24, bias=False)\n",
       "      )\n",
       "      (norm): BatchNorm3d(24, eps=1e-05, momentum=0.1, affine=True, track_running_stats=True)\n",
       "      (activation): ReLU()\n",
       "    )\n",
       "    (1): ResStage(\n",
       "      (res_blocks): ModuleList(\n",
       "        (0): ResBlock(\n",
       "          (branch1_conv): Conv3d(24, 24, kernel_size=(1, 1, 1), stride=(1, 2, 2), bias=False)\n",
       "          (branch2): BottleneckBlock(\n",
       "            (conv_a): Conv3d(24, 54, kernel_size=(1, 1, 1), stride=(1, 1, 1), bias=False)\n",
       "            (norm_a): BatchNorm3d(54, eps=1e-05, momentum=0.1, affine=True, track_running_stats=True)\n",
       "            (act_a): ReLU()\n",
       "            (conv_b): Conv3d(54, 54, kernel_size=(3, 3, 3), stride=(1, 2, 2), padding=(1, 1, 1), groups=54, bias=False)\n",
       "            (norm_b): Sequential(\n",
       "              (0): BatchNorm3d(54, eps=1e-05, momentum=0.1, affine=True, track_running_stats=True)\n",
       "              (1): SqueezeExcitation(\n",
       "                (block): Sequential(\n",
       "                  (0): Conv3d(54, 8, kernel_size=(1, 1, 1), stride=(1, 1, 1))\n",
       "                  (1): ReLU()\n",
       "                  (2): Conv3d(8, 54, kernel_size=(1, 1, 1), stride=(1, 1, 1))\n",
       "                  (3): Sigmoid()\n",
       "                )\n",
       "              )\n",
       "            )\n",
       "            (act_b): Swish()\n",
       "            (conv_c): Conv3d(54, 24, kernel_size=(1, 1, 1), stride=(1, 1, 1), bias=False)\n",
       "            (norm_c): BatchNorm3d(24, eps=1e-05, momentum=0.1, affine=True, track_running_stats=True)\n",
       "          )\n",
       "          (activation): ReLU()\n",
       "        )\n",
       "        (1): ResBlock(\n",
       "          (branch2): BottleneckBlock(\n",
       "            (conv_a): Conv3d(24, 54, kernel_size=(1, 1, 1), stride=(1, 1, 1), bias=False)\n",
       "            (norm_a): BatchNorm3d(54, eps=1e-05, momentum=0.1, affine=True, track_running_stats=True)\n",
       "            (act_a): ReLU()\n",
       "            (conv_b): Conv3d(54, 54, kernel_size=(3, 3, 3), stride=(1, 1, 1), padding=(1, 1, 1), groups=54, bias=False)\n",
       "            (norm_b): Sequential(\n",
       "              (0): BatchNorm3d(54, eps=1e-05, momentum=0.1, affine=True, track_running_stats=True)\n",
       "              (1): Identity()\n",
       "            )\n",
       "            (act_b): Swish()\n",
       "            (conv_c): Conv3d(54, 24, kernel_size=(1, 1, 1), stride=(1, 1, 1), bias=False)\n",
       "            (norm_c): BatchNorm3d(24, eps=1e-05, momentum=0.1, affine=True, track_running_stats=True)\n",
       "          )\n",
       "          (activation): ReLU()\n",
       "        )\n",
       "        (2): ResBlock(\n",
       "          (branch2): BottleneckBlock(\n",
       "            (conv_a): Conv3d(24, 54, kernel_size=(1, 1, 1), stride=(1, 1, 1), bias=False)\n",
       "            (norm_a): BatchNorm3d(54, eps=1e-05, momentum=0.1, affine=True, track_running_stats=True)\n",
       "            (act_a): ReLU()\n",
       "            (conv_b): Conv3d(54, 54, kernel_size=(3, 3, 3), stride=(1, 1, 1), padding=(1, 1, 1), groups=54, bias=False)\n",
       "            (norm_b): Sequential(\n",
       "              (0): BatchNorm3d(54, eps=1e-05, momentum=0.1, affine=True, track_running_stats=True)\n",
       "              (1): SqueezeExcitation(\n",
       "                (block): Sequential(\n",
       "                  (0): Conv3d(54, 8, kernel_size=(1, 1, 1), stride=(1, 1, 1))\n",
       "                  (1): ReLU()\n",
       "                  (2): Conv3d(8, 54, kernel_size=(1, 1, 1), stride=(1, 1, 1))\n",
       "                  (3): Sigmoid()\n",
       "                )\n",
       "              )\n",
       "            )\n",
       "            (act_b): Swish()\n",
       "            (conv_c): Conv3d(54, 24, kernel_size=(1, 1, 1), stride=(1, 1, 1), bias=False)\n",
       "            (norm_c): BatchNorm3d(24, eps=1e-05, momentum=0.1, affine=True, track_running_stats=True)\n",
       "          )\n",
       "          (activation): ReLU()\n",
       "        )\n",
       "      )\n",
       "    )\n",
       "    (2): ResStage(\n",
       "      (res_blocks): ModuleList(\n",
       "        (0): ResBlock(\n",
       "          (branch1_conv): Conv3d(24, 48, kernel_size=(1, 1, 1), stride=(1, 2, 2), bias=False)\n",
       "          (branch1_norm): BatchNorm3d(48, eps=1e-05, momentum=0.1, affine=True, track_running_stats=True)\n",
       "          (branch2): BottleneckBlock(\n",
       "            (conv_a): Conv3d(24, 108, kernel_size=(1, 1, 1), stride=(1, 1, 1), bias=False)\n",
       "            (norm_a): BatchNorm3d(108, eps=1e-05, momentum=0.1, affine=True, track_running_stats=True)\n",
       "            (act_a): ReLU()\n",
       "            (conv_b): Conv3d(108, 108, kernel_size=(3, 3, 3), stride=(1, 2, 2), padding=(1, 1, 1), groups=108, bias=False)\n",
       "            (norm_b): Sequential(\n",
       "              (0): BatchNorm3d(108, eps=1e-05, momentum=0.1, affine=True, track_running_stats=True)\n",
       "              (1): SqueezeExcitation(\n",
       "                (block): Sequential(\n",
       "                  (0): Conv3d(108, 8, kernel_size=(1, 1, 1), stride=(1, 1, 1))\n",
       "                  (1): ReLU()\n",
       "                  (2): Conv3d(8, 108, kernel_size=(1, 1, 1), stride=(1, 1, 1))\n",
       "                  (3): Sigmoid()\n",
       "                )\n",
       "              )\n",
       "            )\n",
       "            (act_b): Swish()\n",
       "            (conv_c): Conv3d(108, 48, kernel_size=(1, 1, 1), stride=(1, 1, 1), bias=False)\n",
       "            (norm_c): BatchNorm3d(48, eps=1e-05, momentum=0.1, affine=True, track_running_stats=True)\n",
       "          )\n",
       "          (activation): ReLU()\n",
       "        )\n",
       "        (1): ResBlock(\n",
       "          (branch2): BottleneckBlock(\n",
       "            (conv_a): Conv3d(48, 108, kernel_size=(1, 1, 1), stride=(1, 1, 1), bias=False)\n",
       "            (norm_a): BatchNorm3d(108, eps=1e-05, momentum=0.1, affine=True, track_running_stats=True)\n",
       "            (act_a): ReLU()\n",
       "            (conv_b): Conv3d(108, 108, kernel_size=(3, 3, 3), stride=(1, 1, 1), padding=(1, 1, 1), groups=108, bias=False)\n",
       "            (norm_b): Sequential(\n",
       "              (0): BatchNorm3d(108, eps=1e-05, momentum=0.1, affine=True, track_running_stats=True)\n",
       "              (1): Identity()\n",
       "            )\n",
       "            (act_b): Swish()\n",
       "            (conv_c): Conv3d(108, 48, kernel_size=(1, 1, 1), stride=(1, 1, 1), bias=False)\n",
       "            (norm_c): BatchNorm3d(48, eps=1e-05, momentum=0.1, affine=True, track_running_stats=True)\n",
       "          )\n",
       "          (activation): ReLU()\n",
       "        )\n",
       "        (2): ResBlock(\n",
       "          (branch2): BottleneckBlock(\n",
       "            (conv_a): Conv3d(48, 108, kernel_size=(1, 1, 1), stride=(1, 1, 1), bias=False)\n",
       "            (norm_a): BatchNorm3d(108, eps=1e-05, momentum=0.1, affine=True, track_running_stats=True)\n",
       "            (act_a): ReLU()\n",
       "            (conv_b): Conv3d(108, 108, kernel_size=(3, 3, 3), stride=(1, 1, 1), padding=(1, 1, 1), groups=108, bias=False)\n",
       "            (norm_b): Sequential(\n",
       "              (0): BatchNorm3d(108, eps=1e-05, momentum=0.1, affine=True, track_running_stats=True)\n",
       "              (1): SqueezeExcitation(\n",
       "                (block): Sequential(\n",
       "                  (0): Conv3d(108, 8, kernel_size=(1, 1, 1), stride=(1, 1, 1))\n",
       "                  (1): ReLU()\n",
       "                  (2): Conv3d(8, 108, kernel_size=(1, 1, 1), stride=(1, 1, 1))\n",
       "                  (3): Sigmoid()\n",
       "                )\n",
       "              )\n",
       "            )\n",
       "            (act_b): Swish()\n",
       "            (conv_c): Conv3d(108, 48, kernel_size=(1, 1, 1), stride=(1, 1, 1), bias=False)\n",
       "            (norm_c): BatchNorm3d(48, eps=1e-05, momentum=0.1, affine=True, track_running_stats=True)\n",
       "          )\n",
       "          (activation): ReLU()\n",
       "        )\n",
       "        (3): ResBlock(\n",
       "          (branch2): BottleneckBlock(\n",
       "            (conv_a): Conv3d(48, 108, kernel_size=(1, 1, 1), stride=(1, 1, 1), bias=False)\n",
       "            (norm_a): BatchNorm3d(108, eps=1e-05, momentum=0.1, affine=True, track_running_stats=True)\n",
       "            (act_a): ReLU()\n",
       "            (conv_b): Conv3d(108, 108, kernel_size=(3, 3, 3), stride=(1, 1, 1), padding=(1, 1, 1), groups=108, bias=False)\n",
       "            (norm_b): Sequential(\n",
       "              (0): BatchNorm3d(108, eps=1e-05, momentum=0.1, affine=True, track_running_stats=True)\n",
       "              (1): Identity()\n",
       "            )\n",
       "            (act_b): Swish()\n",
       "            (conv_c): Conv3d(108, 48, kernel_size=(1, 1, 1), stride=(1, 1, 1), bias=False)\n",
       "            (norm_c): BatchNorm3d(48, eps=1e-05, momentum=0.1, affine=True, track_running_stats=True)\n",
       "          )\n",
       "          (activation): ReLU()\n",
       "        )\n",
       "        (4): ResBlock(\n",
       "          (branch2): BottleneckBlock(\n",
       "            (conv_a): Conv3d(48, 108, kernel_size=(1, 1, 1), stride=(1, 1, 1), bias=False)\n",
       "            (norm_a): BatchNorm3d(108, eps=1e-05, momentum=0.1, affine=True, track_running_stats=True)\n",
       "            (act_a): ReLU()\n",
       "            (conv_b): Conv3d(108, 108, kernel_size=(3, 3, 3), stride=(1, 1, 1), padding=(1, 1, 1), groups=108, bias=False)\n",
       "            (norm_b): Sequential(\n",
       "              (0): BatchNorm3d(108, eps=1e-05, momentum=0.1, affine=True, track_running_stats=True)\n",
       "              (1): SqueezeExcitation(\n",
       "                (block): Sequential(\n",
       "                  (0): Conv3d(108, 8, kernel_size=(1, 1, 1), stride=(1, 1, 1))\n",
       "                  (1): ReLU()\n",
       "                  (2): Conv3d(8, 108, kernel_size=(1, 1, 1), stride=(1, 1, 1))\n",
       "                  (3): Sigmoid()\n",
       "                )\n",
       "              )\n",
       "            )\n",
       "            (act_b): Swish()\n",
       "            (conv_c): Conv3d(108, 48, kernel_size=(1, 1, 1), stride=(1, 1, 1), bias=False)\n",
       "            (norm_c): BatchNorm3d(48, eps=1e-05, momentum=0.1, affine=True, track_running_stats=True)\n",
       "          )\n",
       "          (activation): ReLU()\n",
       "        )\n",
       "      )\n",
       "    )\n",
       "    (3): ResStage(\n",
       "      (res_blocks): ModuleList(\n",
       "        (0): ResBlock(\n",
       "          (branch1_conv): Conv3d(48, 96, kernel_size=(1, 1, 1), stride=(1, 2, 2), bias=False)\n",
       "          (branch1_norm): BatchNorm3d(96, eps=1e-05, momentum=0.1, affine=True, track_running_stats=True)\n",
       "          (branch2): BottleneckBlock(\n",
       "            (conv_a): Conv3d(48, 216, kernel_size=(1, 1, 1), stride=(1, 1, 1), bias=False)\n",
       "            (norm_a): BatchNorm3d(216, eps=1e-05, momentum=0.1, affine=True, track_running_stats=True)\n",
       "            (act_a): ReLU()\n",
       "            (conv_b): Conv3d(216, 216, kernel_size=(3, 3, 3), stride=(1, 2, 2), padding=(1, 1, 1), groups=216, bias=False)\n",
       "            (norm_b): Sequential(\n",
       "              (0): BatchNorm3d(216, eps=1e-05, momentum=0.1, affine=True, track_running_stats=True)\n",
       "              (1): SqueezeExcitation(\n",
       "                (block): Sequential(\n",
       "                  (0): Conv3d(216, 16, kernel_size=(1, 1, 1), stride=(1, 1, 1))\n",
       "                  (1): ReLU()\n",
       "                  (2): Conv3d(16, 216, kernel_size=(1, 1, 1), stride=(1, 1, 1))\n",
       "                  (3): Sigmoid()\n",
       "                )\n",
       "              )\n",
       "            )\n",
       "            (act_b): Swish()\n",
       "            (conv_c): Conv3d(216, 96, kernel_size=(1, 1, 1), stride=(1, 1, 1), bias=False)\n",
       "            (norm_c): BatchNorm3d(96, eps=1e-05, momentum=0.1, affine=True, track_running_stats=True)\n",
       "          )\n",
       "          (activation): ReLU()\n",
       "        )\n",
       "        (1): ResBlock(\n",
       "          (branch2): BottleneckBlock(\n",
       "            (conv_a): Conv3d(96, 216, kernel_size=(1, 1, 1), stride=(1, 1, 1), bias=False)\n",
       "            (norm_a): BatchNorm3d(216, eps=1e-05, momentum=0.1, affine=True, track_running_stats=True)\n",
       "            (act_a): ReLU()\n",
       "            (conv_b): Conv3d(216, 216, kernel_size=(3, 3, 3), stride=(1, 1, 1), padding=(1, 1, 1), groups=216, bias=False)\n",
       "            (norm_b): Sequential(\n",
       "              (0): BatchNorm3d(216, eps=1e-05, momentum=0.1, affine=True, track_running_stats=True)\n",
       "              (1): Identity()\n",
       "            )\n",
       "            (act_b): Swish()\n",
       "            (conv_c): Conv3d(216, 96, kernel_size=(1, 1, 1), stride=(1, 1, 1), bias=False)\n",
       "            (norm_c): BatchNorm3d(96, eps=1e-05, momentum=0.1, affine=True, track_running_stats=True)\n",
       "          )\n",
       "          (activation): ReLU()\n",
       "        )\n",
       "        (2): ResBlock(\n",
       "          (branch2): BottleneckBlock(\n",
       "            (conv_a): Conv3d(96, 216, kernel_size=(1, 1, 1), stride=(1, 1, 1), bias=False)\n",
       "            (norm_a): BatchNorm3d(216, eps=1e-05, momentum=0.1, affine=True, track_running_stats=True)\n",
       "            (act_a): ReLU()\n",
       "            (conv_b): Conv3d(216, 216, kernel_size=(3, 3, 3), stride=(1, 1, 1), padding=(1, 1, 1), groups=216, bias=False)\n",
       "            (norm_b): Sequential(\n",
       "              (0): BatchNorm3d(216, eps=1e-05, momentum=0.1, affine=True, track_running_stats=True)\n",
       "              (1): SqueezeExcitation(\n",
       "                (block): Sequential(\n",
       "                  (0): Conv3d(216, 16, kernel_size=(1, 1, 1), stride=(1, 1, 1))\n",
       "                  (1): ReLU()\n",
       "                  (2): Conv3d(16, 216, kernel_size=(1, 1, 1), stride=(1, 1, 1))\n",
       "                  (3): Sigmoid()\n",
       "                )\n",
       "              )\n",
       "            )\n",
       "            (act_b): Swish()\n",
       "            (conv_c): Conv3d(216, 96, kernel_size=(1, 1, 1), stride=(1, 1, 1), bias=False)\n",
       "            (norm_c): BatchNorm3d(96, eps=1e-05, momentum=0.1, affine=True, track_running_stats=True)\n",
       "          )\n",
       "          (activation): ReLU()\n",
       "        )\n",
       "        (3): ResBlock(\n",
       "          (branch2): BottleneckBlock(\n",
       "            (conv_a): Conv3d(96, 216, kernel_size=(1, 1, 1), stride=(1, 1, 1), bias=False)\n",
       "            (norm_a): BatchNorm3d(216, eps=1e-05, momentum=0.1, affine=True, track_running_stats=True)\n",
       "            (act_a): ReLU()\n",
       "            (conv_b): Conv3d(216, 216, kernel_size=(3, 3, 3), stride=(1, 1, 1), padding=(1, 1, 1), groups=216, bias=False)\n",
       "            (norm_b): Sequential(\n",
       "              (0): BatchNorm3d(216, eps=1e-05, momentum=0.1, affine=True, track_running_stats=True)\n",
       "              (1): Identity()\n",
       "            )\n",
       "            (act_b): Swish()\n",
       "            (conv_c): Conv3d(216, 96, kernel_size=(1, 1, 1), stride=(1, 1, 1), bias=False)\n",
       "            (norm_c): BatchNorm3d(96, eps=1e-05, momentum=0.1, affine=True, track_running_stats=True)\n",
       "          )\n",
       "          (activation): ReLU()\n",
       "        )\n",
       "        (4): ResBlock(\n",
       "          (branch2): BottleneckBlock(\n",
       "            (conv_a): Conv3d(96, 216, kernel_size=(1, 1, 1), stride=(1, 1, 1), bias=False)\n",
       "            (norm_a): BatchNorm3d(216, eps=1e-05, momentum=0.1, affine=True, track_running_stats=True)\n",
       "            (act_a): ReLU()\n",
       "            (conv_b): Conv3d(216, 216, kernel_size=(3, 3, 3), stride=(1, 1, 1), padding=(1, 1, 1), groups=216, bias=False)\n",
       "            (norm_b): Sequential(\n",
       "              (0): BatchNorm3d(216, eps=1e-05, momentum=0.1, affine=True, track_running_stats=True)\n",
       "              (1): SqueezeExcitation(\n",
       "                (block): Sequential(\n",
       "                  (0): Conv3d(216, 16, kernel_size=(1, 1, 1), stride=(1, 1, 1))\n",
       "                  (1): ReLU()\n",
       "                  (2): Conv3d(16, 216, kernel_size=(1, 1, 1), stride=(1, 1, 1))\n",
       "                  (3): Sigmoid()\n",
       "                )\n",
       "              )\n",
       "            )\n",
       "            (act_b): Swish()\n",
       "            (conv_c): Conv3d(216, 96, kernel_size=(1, 1, 1), stride=(1, 1, 1), bias=False)\n",
       "            (norm_c): BatchNorm3d(96, eps=1e-05, momentum=0.1, affine=True, track_running_stats=True)\n",
       "          )\n",
       "          (activation): ReLU()\n",
       "        )\n",
       "        (5): ResBlock(\n",
       "          (branch2): BottleneckBlock(\n",
       "            (conv_a): Conv3d(96, 216, kernel_size=(1, 1, 1), stride=(1, 1, 1), bias=False)\n",
       "            (norm_a): BatchNorm3d(216, eps=1e-05, momentum=0.1, affine=True, track_running_stats=True)\n",
       "            (act_a): ReLU()\n",
       "            (conv_b): Conv3d(216, 216, kernel_size=(3, 3, 3), stride=(1, 1, 1), padding=(1, 1, 1), groups=216, bias=False)\n",
       "            (norm_b): Sequential(\n",
       "              (0): BatchNorm3d(216, eps=1e-05, momentum=0.1, affine=True, track_running_stats=True)\n",
       "              (1): Identity()\n",
       "            )\n",
       "            (act_b): Swish()\n",
       "            (conv_c): Conv3d(216, 96, kernel_size=(1, 1, 1), stride=(1, 1, 1), bias=False)\n",
       "            (norm_c): BatchNorm3d(96, eps=1e-05, momentum=0.1, affine=True, track_running_stats=True)\n",
       "          )\n",
       "          (activation): ReLU()\n",
       "        )\n",
       "        (6): ResBlock(\n",
       "          (branch2): BottleneckBlock(\n",
       "            (conv_a): Conv3d(96, 216, kernel_size=(1, 1, 1), stride=(1, 1, 1), bias=False)\n",
       "            (norm_a): BatchNorm3d(216, eps=1e-05, momentum=0.1, affine=True, track_running_stats=True)\n",
       "            (act_a): ReLU()\n",
       "            (conv_b): Conv3d(216, 216, kernel_size=(3, 3, 3), stride=(1, 1, 1), padding=(1, 1, 1), groups=216, bias=False)\n",
       "            (norm_b): Sequential(\n",
       "              (0): BatchNorm3d(216, eps=1e-05, momentum=0.1, affine=True, track_running_stats=True)\n",
       "              (1): SqueezeExcitation(\n",
       "                (block): Sequential(\n",
       "                  (0): Conv3d(216, 16, kernel_size=(1, 1, 1), stride=(1, 1, 1))\n",
       "                  (1): ReLU()\n",
       "                  (2): Conv3d(16, 216, kernel_size=(1, 1, 1), stride=(1, 1, 1))\n",
       "                  (3): Sigmoid()\n",
       "                )\n",
       "              )\n",
       "            )\n",
       "            (act_b): Swish()\n",
       "            (conv_c): Conv3d(216, 96, kernel_size=(1, 1, 1), stride=(1, 1, 1), bias=False)\n",
       "            (norm_c): BatchNorm3d(96, eps=1e-05, momentum=0.1, affine=True, track_running_stats=True)\n",
       "          )\n",
       "          (activation): ReLU()\n",
       "        )\n",
       "        (7): ResBlock(\n",
       "          (branch2): BottleneckBlock(\n",
       "            (conv_a): Conv3d(96, 216, kernel_size=(1, 1, 1), stride=(1, 1, 1), bias=False)\n",
       "            (norm_a): BatchNorm3d(216, eps=1e-05, momentum=0.1, affine=True, track_running_stats=True)\n",
       "            (act_a): ReLU()\n",
       "            (conv_b): Conv3d(216, 216, kernel_size=(3, 3, 3), stride=(1, 1, 1), padding=(1, 1, 1), groups=216, bias=False)\n",
       "            (norm_b): Sequential(\n",
       "              (0): BatchNorm3d(216, eps=1e-05, momentum=0.1, affine=True, track_running_stats=True)\n",
       "              (1): Identity()\n",
       "            )\n",
       "            (act_b): Swish()\n",
       "            (conv_c): Conv3d(216, 96, kernel_size=(1, 1, 1), stride=(1, 1, 1), bias=False)\n",
       "            (norm_c): BatchNorm3d(96, eps=1e-05, momentum=0.1, affine=True, track_running_stats=True)\n",
       "          )\n",
       "          (activation): ReLU()\n",
       "        )\n",
       "        (8): ResBlock(\n",
       "          (branch2): BottleneckBlock(\n",
       "            (conv_a): Conv3d(96, 216, kernel_size=(1, 1, 1), stride=(1, 1, 1), bias=False)\n",
       "            (norm_a): BatchNorm3d(216, eps=1e-05, momentum=0.1, affine=True, track_running_stats=True)\n",
       "            (act_a): ReLU()\n",
       "            (conv_b): Conv3d(216, 216, kernel_size=(3, 3, 3), stride=(1, 1, 1), padding=(1, 1, 1), groups=216, bias=False)\n",
       "            (norm_b): Sequential(\n",
       "              (0): BatchNorm3d(216, eps=1e-05, momentum=0.1, affine=True, track_running_stats=True)\n",
       "              (1): SqueezeExcitation(\n",
       "                (block): Sequential(\n",
       "                  (0): Conv3d(216, 16, kernel_size=(1, 1, 1), stride=(1, 1, 1))\n",
       "                  (1): ReLU()\n",
       "                  (2): Conv3d(16, 216, kernel_size=(1, 1, 1), stride=(1, 1, 1))\n",
       "                  (3): Sigmoid()\n",
       "                )\n",
       "              )\n",
       "            )\n",
       "            (act_b): Swish()\n",
       "            (conv_c): Conv3d(216, 96, kernel_size=(1, 1, 1), stride=(1, 1, 1), bias=False)\n",
       "            (norm_c): BatchNorm3d(96, eps=1e-05, momentum=0.1, affine=True, track_running_stats=True)\n",
       "          )\n",
       "          (activation): ReLU()\n",
       "        )\n",
       "        (9): ResBlock(\n",
       "          (branch2): BottleneckBlock(\n",
       "            (conv_a): Conv3d(96, 216, kernel_size=(1, 1, 1), stride=(1, 1, 1), bias=False)\n",
       "            (norm_a): BatchNorm3d(216, eps=1e-05, momentum=0.1, affine=True, track_running_stats=True)\n",
       "            (act_a): ReLU()\n",
       "            (conv_b): Conv3d(216, 216, kernel_size=(3, 3, 3), stride=(1, 1, 1), padding=(1, 1, 1), groups=216, bias=False)\n",
       "            (norm_b): Sequential(\n",
       "              (0): BatchNorm3d(216, eps=1e-05, momentum=0.1, affine=True, track_running_stats=True)\n",
       "              (1): Identity()\n",
       "            )\n",
       "            (act_b): Swish()\n",
       "            (conv_c): Conv3d(216, 96, kernel_size=(1, 1, 1), stride=(1, 1, 1), bias=False)\n",
       "            (norm_c): BatchNorm3d(96, eps=1e-05, momentum=0.1, affine=True, track_running_stats=True)\n",
       "          )\n",
       "          (activation): ReLU()\n",
       "        )\n",
       "        (10): ResBlock(\n",
       "          (branch2): BottleneckBlock(\n",
       "            (conv_a): Conv3d(96, 216, kernel_size=(1, 1, 1), stride=(1, 1, 1), bias=False)\n",
       "            (norm_a): BatchNorm3d(216, eps=1e-05, momentum=0.1, affine=True, track_running_stats=True)\n",
       "            (act_a): ReLU()\n",
       "            (conv_b): Conv3d(216, 216, kernel_size=(3, 3, 3), stride=(1, 1, 1), padding=(1, 1, 1), groups=216, bias=False)\n",
       "            (norm_b): Sequential(\n",
       "              (0): BatchNorm3d(216, eps=1e-05, momentum=0.1, affine=True, track_running_stats=True)\n",
       "              (1): SqueezeExcitation(\n",
       "                (block): Sequential(\n",
       "                  (0): Conv3d(216, 16, kernel_size=(1, 1, 1), stride=(1, 1, 1))\n",
       "                  (1): ReLU()\n",
       "                  (2): Conv3d(16, 216, kernel_size=(1, 1, 1), stride=(1, 1, 1))\n",
       "                  (3): Sigmoid()\n",
       "                )\n",
       "              )\n",
       "            )\n",
       "            (act_b): Swish()\n",
       "            (conv_c): Conv3d(216, 96, kernel_size=(1, 1, 1), stride=(1, 1, 1), bias=False)\n",
       "            (norm_c): BatchNorm3d(96, eps=1e-05, momentum=0.1, affine=True, track_running_stats=True)\n",
       "          )\n",
       "          (activation): ReLU()\n",
       "        )\n",
       "      )\n",
       "    )\n",
       "    (4): ResStage(\n",
       "      (res_blocks): ModuleList(\n",
       "        (0): ResBlock(\n",
       "          (branch1_conv): Conv3d(96, 192, kernel_size=(1, 1, 1), stride=(1, 2, 2), bias=False)\n",
       "          (branch1_norm): BatchNorm3d(192, eps=1e-05, momentum=0.1, affine=True, track_running_stats=True)\n",
       "          (branch2): BottleneckBlock(\n",
       "            (conv_a): Conv3d(96, 432, kernel_size=(1, 1, 1), stride=(1, 1, 1), bias=False)\n",
       "            (norm_a): BatchNorm3d(432, eps=1e-05, momentum=0.1, affine=True, track_running_stats=True)\n",
       "            (act_a): ReLU()\n",
       "            (conv_b): Conv3d(432, 432, kernel_size=(3, 3, 3), stride=(1, 2, 2), padding=(1, 1, 1), groups=432, bias=False)\n",
       "            (norm_b): Sequential(\n",
       "              (0): BatchNorm3d(432, eps=1e-05, momentum=0.1, affine=True, track_running_stats=True)\n",
       "              (1): SqueezeExcitation(\n",
       "                (block): Sequential(\n",
       "                  (0): Conv3d(432, 32, kernel_size=(1, 1, 1), stride=(1, 1, 1))\n",
       "                  (1): ReLU()\n",
       "                  (2): Conv3d(32, 432, kernel_size=(1, 1, 1), stride=(1, 1, 1))\n",
       "                  (3): Sigmoid()\n",
       "                )\n",
       "              )\n",
       "            )\n",
       "            (act_b): Swish()\n",
       "            (conv_c): Conv3d(432, 192, kernel_size=(1, 1, 1), stride=(1, 1, 1), bias=False)\n",
       "            (norm_c): BatchNorm3d(192, eps=1e-05, momentum=0.1, affine=True, track_running_stats=True)\n",
       "          )\n",
       "          (activation): ReLU()\n",
       "        )\n",
       "        (1): ResBlock(\n",
       "          (branch2): BottleneckBlock(\n",
       "            (conv_a): Conv3d(192, 432, kernel_size=(1, 1, 1), stride=(1, 1, 1), bias=False)\n",
       "            (norm_a): BatchNorm3d(432, eps=1e-05, momentum=0.1, affine=True, track_running_stats=True)\n",
       "            (act_a): ReLU()\n",
       "            (conv_b): Conv3d(432, 432, kernel_size=(3, 3, 3), stride=(1, 1, 1), padding=(1, 1, 1), groups=432, bias=False)\n",
       "            (norm_b): Sequential(\n",
       "              (0): BatchNorm3d(432, eps=1e-05, momentum=0.1, affine=True, track_running_stats=True)\n",
       "              (1): Identity()\n",
       "            )\n",
       "            (act_b): Swish()\n",
       "            (conv_c): Conv3d(432, 192, kernel_size=(1, 1, 1), stride=(1, 1, 1), bias=False)\n",
       "            (norm_c): BatchNorm3d(192, eps=1e-05, momentum=0.1, affine=True, track_running_stats=True)\n",
       "          )\n",
       "          (activation): ReLU()\n",
       "        )\n",
       "        (2): ResBlock(\n",
       "          (branch2): BottleneckBlock(\n",
       "            (conv_a): Conv3d(192, 432, kernel_size=(1, 1, 1), stride=(1, 1, 1), bias=False)\n",
       "            (norm_a): BatchNorm3d(432, eps=1e-05, momentum=0.1, affine=True, track_running_stats=True)\n",
       "            (act_a): ReLU()\n",
       "            (conv_b): Conv3d(432, 432, kernel_size=(3, 3, 3), stride=(1, 1, 1), padding=(1, 1, 1), groups=432, bias=False)\n",
       "            (norm_b): Sequential(\n",
       "              (0): BatchNorm3d(432, eps=1e-05, momentum=0.1, affine=True, track_running_stats=True)\n",
       "              (1): SqueezeExcitation(\n",
       "                (block): Sequential(\n",
       "                  (0): Conv3d(432, 32, kernel_size=(1, 1, 1), stride=(1, 1, 1))\n",
       "                  (1): ReLU()\n",
       "                  (2): Conv3d(32, 432, kernel_size=(1, 1, 1), stride=(1, 1, 1))\n",
       "                  (3): Sigmoid()\n",
       "                )\n",
       "              )\n",
       "            )\n",
       "            (act_b): Swish()\n",
       "            (conv_c): Conv3d(432, 192, kernel_size=(1, 1, 1), stride=(1, 1, 1), bias=False)\n",
       "            (norm_c): BatchNorm3d(192, eps=1e-05, momentum=0.1, affine=True, track_running_stats=True)\n",
       "          )\n",
       "          (activation): ReLU()\n",
       "        )\n",
       "        (3): ResBlock(\n",
       "          (branch2): BottleneckBlock(\n",
       "            (conv_a): Conv3d(192, 432, kernel_size=(1, 1, 1), stride=(1, 1, 1), bias=False)\n",
       "            (norm_a): BatchNorm3d(432, eps=1e-05, momentum=0.1, affine=True, track_running_stats=True)\n",
       "            (act_a): ReLU()\n",
       "            (conv_b): Conv3d(432, 432, kernel_size=(3, 3, 3), stride=(1, 1, 1), padding=(1, 1, 1), groups=432, bias=False)\n",
       "            (norm_b): Sequential(\n",
       "              (0): BatchNorm3d(432, eps=1e-05, momentum=0.1, affine=True, track_running_stats=True)\n",
       "              (1): Identity()\n",
       "            )\n",
       "            (act_b): Swish()\n",
       "            (conv_c): Conv3d(432, 192, kernel_size=(1, 1, 1), stride=(1, 1, 1), bias=False)\n",
       "            (norm_c): BatchNorm3d(192, eps=1e-05, momentum=0.1, affine=True, track_running_stats=True)\n",
       "          )\n",
       "          (activation): ReLU()\n",
       "        )\n",
       "        (4): ResBlock(\n",
       "          (branch2): BottleneckBlock(\n",
       "            (conv_a): Conv3d(192, 432, kernel_size=(1, 1, 1), stride=(1, 1, 1), bias=False)\n",
       "            (norm_a): BatchNorm3d(432, eps=1e-05, momentum=0.1, affine=True, track_running_stats=True)\n",
       "            (act_a): ReLU()\n",
       "            (conv_b): Conv3d(432, 432, kernel_size=(3, 3, 3), stride=(1, 1, 1), padding=(1, 1, 1), groups=432, bias=False)\n",
       "            (norm_b): Sequential(\n",
       "              (0): BatchNorm3d(432, eps=1e-05, momentum=0.1, affine=True, track_running_stats=True)\n",
       "              (1): SqueezeExcitation(\n",
       "                (block): Sequential(\n",
       "                  (0): Conv3d(432, 32, kernel_size=(1, 1, 1), stride=(1, 1, 1))\n",
       "                  (1): ReLU()\n",
       "                  (2): Conv3d(32, 432, kernel_size=(1, 1, 1), stride=(1, 1, 1))\n",
       "                  (3): Sigmoid()\n",
       "                )\n",
       "              )\n",
       "            )\n",
       "            (act_b): Swish()\n",
       "            (conv_c): Conv3d(432, 192, kernel_size=(1, 1, 1), stride=(1, 1, 1), bias=False)\n",
       "            (norm_c): BatchNorm3d(192, eps=1e-05, momentum=0.1, affine=True, track_running_stats=True)\n",
       "          )\n",
       "          (activation): ReLU()\n",
       "        )\n",
       "        (5): ResBlock(\n",
       "          (branch2): BottleneckBlock(\n",
       "            (conv_a): Conv3d(192, 432, kernel_size=(1, 1, 1), stride=(1, 1, 1), bias=False)\n",
       "            (norm_a): BatchNorm3d(432, eps=1e-05, momentum=0.1, affine=True, track_running_stats=True)\n",
       "            (act_a): ReLU()\n",
       "            (conv_b): Conv3d(432, 432, kernel_size=(3, 3, 3), stride=(1, 1, 1), padding=(1, 1, 1), groups=432, bias=False)\n",
       "            (norm_b): Sequential(\n",
       "              (0): BatchNorm3d(432, eps=1e-05, momentum=0.1, affine=True, track_running_stats=True)\n",
       "              (1): Identity()\n",
       "            )\n",
       "            (act_b): Swish()\n",
       "            (conv_c): Conv3d(432, 192, kernel_size=(1, 1, 1), stride=(1, 1, 1), bias=False)\n",
       "            (norm_c): BatchNorm3d(192, eps=1e-05, momentum=0.1, affine=True, track_running_stats=True)\n",
       "          )\n",
       "          (activation): ReLU()\n",
       "        )\n",
       "        (6): ResBlock(\n",
       "          (branch2): BottleneckBlock(\n",
       "            (conv_a): Conv3d(192, 432, kernel_size=(1, 1, 1), stride=(1, 1, 1), bias=False)\n",
       "            (norm_a): BatchNorm3d(432, eps=1e-05, momentum=0.1, affine=True, track_running_stats=True)\n",
       "            (act_a): ReLU()\n",
       "            (conv_b): Conv3d(432, 432, kernel_size=(3, 3, 3), stride=(1, 1, 1), padding=(1, 1, 1), groups=432, bias=False)\n",
       "            (norm_b): Sequential(\n",
       "              (0): BatchNorm3d(432, eps=1e-05, momentum=0.1, affine=True, track_running_stats=True)\n",
       "              (1): SqueezeExcitation(\n",
       "                (block): Sequential(\n",
       "                  (0): Conv3d(432, 32, kernel_size=(1, 1, 1), stride=(1, 1, 1))\n",
       "                  (1): ReLU()\n",
       "                  (2): Conv3d(32, 432, kernel_size=(1, 1, 1), stride=(1, 1, 1))\n",
       "                  (3): Sigmoid()\n",
       "                )\n",
       "              )\n",
       "            )\n",
       "            (act_b): Swish()\n",
       "            (conv_c): Conv3d(432, 192, kernel_size=(1, 1, 1), stride=(1, 1, 1), bias=False)\n",
       "            (norm_c): BatchNorm3d(192, eps=1e-05, momentum=0.1, affine=True, track_running_stats=True)\n",
       "          )\n",
       "          (activation): ReLU()\n",
       "        )\n",
       "      )\n",
       "    )\n",
       "    (5): ResNetBasicHead(\n",
       "      (pool): ProjectedPool(\n",
       "        (pre_conv): Conv3d(192, 432, kernel_size=(1, 1, 1), stride=(1, 1, 1), bias=False)\n",
       "        (pre_norm): BatchNorm3d(432, eps=1e-05, momentum=0.1, affine=True, track_running_stats=True)\n",
       "        (pre_act): ReLU()\n",
       "        (pool): AvgPool3d(kernel_size=(16, 7, 7), stride=1, padding=0)\n",
       "        (post_conv): Conv3d(432, 2048, kernel_size=(1, 1, 1), stride=(1, 1, 1), bias=False)\n",
       "        (post_act): ReLU()\n",
       "      )\n",
       "      (dropout): Dropout(p=0.5, inplace=False)\n",
       "      (proj): Linear(in_features=2048, out_features=400, bias=True)\n",
       "      (activation): Softmax(dim=1)\n",
       "      (output_pool): AdaptiveAvgPool3d(output_size=1)\n",
       "    )\n",
       "  )\n",
       ")"
      ]
     },
     "execution_count": 4,
     "metadata": {},
     "output_type": "execute_result"
    }
   ],
   "source": [
    "# model_name = 'i3d_r50'\n",
    "model_name = 'x3d_m'\n",
    "model = torch.hub.load('facebookresearch/pytorchvideo:main', model_name, pretrained=True)\n",
    "model"
   ]
  },
  {
   "cell_type": "code",
   "execution_count": 5,
   "id": "74553711-0466-475a-be79-3fa2274d6346",
   "metadata": {
    "scrolled": true,
    "tags": []
   },
   "outputs": [],
   "source": [
    "# Set to GPU or CPU\n",
    "device = \"cuda:0\"\n",
    "model = model.eval()\n",
    "model = model.to(device)\n",
    "\n",
    "# remove classification layer\n",
    "import torch.nn as nn\n",
    "class Identity(nn.Module):\n",
    "    def __init__(self):\n",
    "        super(Identity, self).__init__()\n",
    "        \n",
    "    def forward(self, x):\n",
    "        return x\n",
    "\n",
    "if model_name == 'x3d_m':\n",
    "    model.blocks[5].proj = Identity()\n",
    "    model.blocks[5].activation = Identity()\n",
    "    # model.blocks[5].output_pool = Identity() # 이거 없어야됨. 왠진 몰?루\n",
    "elif model_name == 'i3d_r50':\n",
    "    model.blocks[6].proj = Identity()\n"
   ]
  },
  {
   "cell_type": "code",
   "execution_count": 6,
   "id": "8c707c86-46c0-4a7f-b232-6289053f822f",
   "metadata": {},
   "outputs": [],
   "source": [
    "json_url = \"https://dl.fbaipublicfiles.com/pyslowfast/dataset/class_names/kinetics_classnames.json\"\n",
    "json_filename = \"kinetics_classnames.json\"\n",
    "try: urllib.URLopener().retrieve(json_url, json_filename)\n",
    "except: urllib.request.urlretrieve(json_url, json_filename)"
   ]
  },
  {
   "cell_type": "code",
   "execution_count": 7,
   "id": "44e40dea-0c91-4ebb-b697-fa6701033017",
   "metadata": {},
   "outputs": [],
   "source": [
    "with open(json_filename, \"r\") as f:\n",
    "    kinetics_classnames = json.load(f)\n",
    "\n",
    "# Create an id to label name mapping\n",
    "kinetics_id_to_classname = {}\n",
    "for k, v in kinetics_classnames.items():\n",
    "    kinetics_id_to_classname[v] = str(k).replace('\"', \"\")"
   ]
  },
  {
   "cell_type": "code",
   "execution_count": 8,
   "id": "2644e863-ce89-41f8-9bbc-57372b758baa",
   "metadata": {
    "scrolled": true,
    "tags": []
   },
   "outputs": [
    {
     "data": {
      "text/plain": [
       "{290: 'sharpening knives',\n",
       " 115: 'eating ice cream',\n",
       " 81: 'cutting nails',\n",
       " 53: 'changing wheel',\n",
       " 19: 'bench pressing',\n",
       " 88: 'deadlifting',\n",
       " 111: 'eating carrots',\n",
       " 192: 'marching',\n",
       " 358: 'throwing discus',\n",
       " 231: 'playing flute',\n",
       " 72: 'cooking on campfire',\n",
       " 33: 'breading or breadcrumbing',\n",
       " 218: 'playing badminton',\n",
       " 276: 'ripping paper',\n",
       " 244: 'playing saxophone',\n",
       " 197: 'milking cow',\n",
       " 169: 'juggling balls',\n",
       " 130: 'flying kite',\n",
       " 43: 'capoeira',\n",
       " 187: 'making jewelry',\n",
       " 100: 'drinking',\n",
       " 228: 'playing cymbals',\n",
       " 61: 'cleaning gutters',\n",
       " 161: 'hurling (sport)',\n",
       " 239: 'playing organ',\n",
       " 361: 'tossing coin',\n",
       " 395: 'wrestling',\n",
       " 103: 'driving car',\n",
       " 150: 'headbutting',\n",
       " 147: 'gymnastics tumbling',\n",
       " 186: 'making bed',\n",
       " 0: 'abseiling',\n",
       " 155: 'holding snake',\n",
       " 278: 'rock climbing',\n",
       " 71: 'cooking egg',\n",
       " 182: 'long jump',\n",
       " 17: 'bee keeping',\n",
       " 365: 'trimming or shaving beard',\n",
       " 63: 'cleaning shoes',\n",
       " 86: 'dancing gangnam style',\n",
       " 50: 'catching or throwing softball',\n",
       " 164: 'ice skating',\n",
       " 168: 'jogging',\n",
       " 116: 'eating spaghetti',\n",
       " 28: 'bobsledding',\n",
       " 8: 'assembling computer',\n",
       " 227: 'playing cricket',\n",
       " 238: 'playing monopoly',\n",
       " 143: 'golf putting',\n",
       " 188: 'making pizza',\n",
       " 166: 'javelin throw',\n",
       " 211: 'peeling potatoes',\n",
       " 57: 'clapping',\n",
       " 36: 'brushing hair',\n",
       " 129: 'flipping pancake',\n",
       " 101: 'drinking beer',\n",
       " 99: 'dribbling basketball',\n",
       " 219: 'playing bagpipes',\n",
       " 325: 'somersaulting',\n",
       " 42: 'canoeing or kayaking',\n",
       " 275: 'riding unicycle',\n",
       " 355: 'texting',\n",
       " 352: 'tasting beer',\n",
       " 154: 'hockey stop',\n",
       " 225: 'playing clarinet',\n",
       " 389: 'waxing legs',\n",
       " 80: 'curling hair',\n",
       " 281: 'running on treadmill',\n",
       " 346: 'tai chi',\n",
       " 104: 'driving tractor',\n",
       " 293: 'shaving legs',\n",
       " 291: 'sharpening pencil',\n",
       " 190: 'making sushi',\n",
       " 327: 'spray painting',\n",
       " 305: 'situp',\n",
       " 237: 'playing kickball',\n",
       " 331: 'sticking tongue out',\n",
       " 149: 'headbanging',\n",
       " 132: 'folding napkins',\n",
       " 241: 'playing piano',\n",
       " 312: 'skydiving',\n",
       " 85: 'dancing charleston',\n",
       " 163: 'ice fishing',\n",
       " 359: 'tickling',\n",
       " 13: 'bandaging',\n",
       " 151: 'high jump',\n",
       " 185: 'making a sandwich',\n",
       " 271: 'riding mountain bike',\n",
       " 82: 'cutting pineapple',\n",
       " 125: 'feeding goats',\n",
       " 87: 'dancing macarena',\n",
       " 220: 'playing basketball',\n",
       " 179: 'krumping',\n",
       " 152: 'high kick',\n",
       " 12: 'balloon blowing',\n",
       " 217: 'playing accordion',\n",
       " 224: 'playing chess',\n",
       " 159: 'hula hooping',\n",
       " 263: 'pushing wheelchair',\n",
       " 268: 'riding camel',\n",
       " 27: 'blowing out candles',\n",
       " 121: 'extinguishing fire',\n",
       " 373: 'using computer',\n",
       " 173: 'jumpstyle dancing',\n",
       " 397: 'yawning',\n",
       " 396: 'writing',\n",
       " 172: 'jumping into pool',\n",
       " 96: 'doing laundry',\n",
       " 118: 'egg hunting',\n",
       " 284: 'sanding floor',\n",
       " 200: 'moving furniture',\n",
       " 119: 'exercising arm',\n",
       " 345: 'sword fighting',\n",
       " 303: 'sign language interpreting',\n",
       " 74: 'counting money',\n",
       " 15: 'bartending',\n",
       " 65: 'cleaning windows',\n",
       " 23: 'blasting sand',\n",
       " 213: 'petting cat',\n",
       " 320: 'sniffing',\n",
       " 31: 'bowling',\n",
       " 242: 'playing poker',\n",
       " 347: 'taking a shower',\n",
       " 382: 'washing hands',\n",
       " 384: 'water sliding',\n",
       " 254: 'presenting weather forecast',\n",
       " 360: 'tobogganing',\n",
       " 51: 'celebrating',\n",
       " 138: 'getting a haircut',\n",
       " 321: 'snorkeling',\n",
       " 390: 'weaving basket',\n",
       " 245: 'playing squash or racquetball',\n",
       " 206: 'parasailing',\n",
       " 202: 'news anchoring',\n",
       " 18: 'belly dancing',\n",
       " 393: 'windsurfing',\n",
       " 32: 'braiding hair',\n",
       " 78: 'crossing river',\n",
       " 181: 'laying bricks',\n",
       " 280: 'roller skating',\n",
       " 156: 'hopscotch',\n",
       " 248: 'playing trumpet',\n",
       " 108: 'dying hair',\n",
       " 366: 'trimming trees',\n",
       " 256: 'pumping fist',\n",
       " 236: 'playing keyboard',\n",
       " 322: 'snowboarding',\n",
       " 136: 'garbage collecting',\n",
       " 226: 'playing controller',\n",
       " 94: 'dodgeball',\n",
       " 266: 'recording music',\n",
       " 75: 'country line dancing',\n",
       " 84: 'dancing ballet',\n",
       " 137: 'gargling',\n",
       " 165: 'ironing',\n",
       " 260: 'push up',\n",
       " 135: 'frying vegetables',\n",
       " 307: 'ski jumping',\n",
       " 201: 'mowing lawn',\n",
       " 139: 'getting a tattoo',\n",
       " 279: 'rock scissors paper',\n",
       " 55: 'cheerleading',\n",
       " 374: 'using remote controller (not gaming)',\n",
       " 289: 'shaking head',\n",
       " 282: 'sailing',\n",
       " 363: 'training dog',\n",
       " 160: 'hurdling',\n",
       " 128: 'fixing hair',\n",
       " 67: 'climbing ladder',\n",
       " 126: 'filling eyebrows',\n",
       " 329: 'springboard diving',\n",
       " 117: 'eating watermelon',\n",
       " 106: 'drumming fingers',\n",
       " 386: 'waxing back',\n",
       " 229: 'playing didgeridoo',\n",
       " 339: 'swimming backstroke',\n",
       " 22: 'biking through snow',\n",
       " 380: 'washing feet',\n",
       " 198: 'mopping floor',\n",
       " 357: 'throwing ball',\n",
       " 113: 'eating doughnuts',\n",
       " 102: 'drinking shots',\n",
       " 368: 'tying bow tie',\n",
       " 91: 'dining',\n",
       " 337: 'surfing water',\n",
       " 338: 'sweeping floor',\n",
       " 145: 'grooming dog',\n",
       " 47: 'catching fish',\n",
       " 257: 'pumping gas',\n",
       " 273: 'riding or walking with horse',\n",
       " 196: \"massaging person's head\",\n",
       " 5: 'archery',\n",
       " 162: 'ice climbing',\n",
       " 243: 'playing recorder',\n",
       " 89: 'decorating the christmas tree',\n",
       " 210: 'peeling apples',\n",
       " 324: 'snowmobiling',\n",
       " 249: 'playing ukulele',\n",
       " 109: 'eating burger',\n",
       " 38: 'building cabinet',\n",
       " 332: 'stomping grapes',\n",
       " 105: 'drop kicking',\n",
       " 209: 'passing American football (not in game)',\n",
       " 3: 'applauding',\n",
       " 158: 'hugging',\n",
       " 114: 'eating hotdog',\n",
       " 253: 'pole vault',\n",
       " 265: 'reading newspaper',\n",
       " 318: 'snatch weight lifting',\n",
       " 399: 'zumba',\n",
       " 235: 'playing ice hockey',\n",
       " 34: 'breakdancing',\n",
       " 124: 'feeding fish',\n",
       " 300: 'shredding paper',\n",
       " 49: 'catching or throwing frisbee',\n",
       " 120: 'exercising with an exercise ball',\n",
       " 262: 'pushing cart',\n",
       " 341: 'swimming butterfly stroke',\n",
       " 274: 'riding scooter',\n",
       " 328: 'spraying',\n",
       " 133: 'folding paper',\n",
       " 142: 'golf driving',\n",
       " 277: 'robot dancing',\n",
       " 20: 'bending back',\n",
       " 354: 'testifying',\n",
       " 387: 'waxing chest',\n",
       " 46: 'carving pumpkin',\n",
       " 153: 'hitting baseball',\n",
       " 269: 'riding elephant',\n",
       " 37: 'brushing teeth',\n",
       " 255: 'pull ups',\n",
       " 267: 'riding a bike',\n",
       " 306: 'skateboarding',\n",
       " 62: 'cleaning pool',\n",
       " 240: 'playing paintball',\n",
       " 193: 'massaging back',\n",
       " 299: 'shoveling snow',\n",
       " 336: 'surfing crowd',\n",
       " 371: 'unboxing',\n",
       " 122: 'faceplanting',\n",
       " 364: 'trapezing',\n",
       " 343: 'swinging legs',\n",
       " 157: 'hoverboarding',\n",
       " 250: 'playing violin',\n",
       " 394: 'wrapping present',\n",
       " 26: 'blowing nose',\n",
       " 174: 'kicking field goal',\n",
       " 214: 'picking fruit',\n",
       " 344: 'swinging on something',\n",
       " 140: 'giving or receiving award',\n",
       " 215: 'planting trees',\n",
       " 383: 'water skiing',\n",
       " 379: 'washing dishes',\n",
       " 258: 'punching bag',\n",
       " 195: 'massaging legs',\n",
       " 356: 'throwing axe',\n",
       " 283: 'salsa dancing',\n",
       " 29: 'bookbinding',\n",
       " 370: 'tying tie',\n",
       " 309: 'skiing crosscountry',\n",
       " 295: 'shining shoes',\n",
       " 189: 'making snowman',\n",
       " 134: 'front raises',\n",
       " 97: 'doing nails',\n",
       " 194: 'massaging feet',\n",
       " 230: 'playing drums',\n",
       " 316: 'smoking',\n",
       " 259: 'punching person (boxing)',\n",
       " 45: 'cartwheeling',\n",
       " 208: 'passing American football (in game)',\n",
       " 288: 'shaking hands',\n",
       " 216: 'plastering',\n",
       " 385: 'watering plants',\n",
       " 176: 'kissing',\n",
       " 314: 'slapping',\n",
       " 233: 'playing harmonica',\n",
       " 391: 'welding',\n",
       " 317: 'smoking hookah',\n",
       " 285: 'scrambling eggs',\n",
       " 70: 'cooking chicken',\n",
       " 261: 'pushing car',\n",
       " 203: 'opening bottle',\n",
       " 73: 'cooking sausages',\n",
       " 48: 'catching or throwing baseball',\n",
       " 340: 'swimming breast stroke',\n",
       " 90: 'digging',\n",
       " 252: 'playing xylophone',\n",
       " 95: 'doing aerobics',\n",
       " 247: 'playing trombone',\n",
       " 178: 'knitting',\n",
       " 377: 'waiting in line',\n",
       " 362: 'tossing salad',\n",
       " 330: 'squat',\n",
       " 376: 'vault',\n",
       " 375: 'using segway',\n",
       " 77: 'crawling baby',\n",
       " 264: 'reading book',\n",
       " 199: 'motorcycling',\n",
       " 14: 'barbequing',\n",
       " 60: 'cleaning floor',\n",
       " 223: 'playing cello',\n",
       " 98: 'drawing',\n",
       " 9: 'auctioning',\n",
       " 44: 'carrying baby',\n",
       " 93: 'diving cliff',\n",
       " 41: 'busking',\n",
       " 83: 'cutting watermelon',\n",
       " 286: 'scuba diving',\n",
       " 270: 'riding mechanical bull',\n",
       " 191: 'making tea',\n",
       " 246: 'playing tennis',\n",
       " 79: 'crying',\n",
       " 107: 'dunking basketball',\n",
       " 76: 'cracking neck',\n",
       " 7: 'arranging flowers',\n",
       " 39: 'building shed',\n",
       " 141: 'golf chipping',\n",
       " 353: 'tasting food',\n",
       " 292: 'shaving head',\n",
       " 2: 'answering questions',\n",
       " 68: 'climbing tree',\n",
       " 311: 'skipping rope',\n",
       " 177: 'kitesurfing',\n",
       " 170: 'juggling fire',\n",
       " 180: 'laughing',\n",
       " 205: 'paragliding',\n",
       " 69: 'contact juggling',\n",
       " 313: 'slacklining',\n",
       " 6: 'arm wrestling',\n",
       " 184: 'making a cake',\n",
       " 127: 'finger snapping',\n",
       " 146: 'grooming horse',\n",
       " 204: 'opening present',\n",
       " 351: 'tapping pen',\n",
       " 304: 'singing',\n",
       " 298: 'shot put',\n",
       " 64: 'cleaning toilet',\n",
       " 326: 'spinning poi',\n",
       " 287: 'setting table',\n",
       " 369: 'tying knot (not on a tie)',\n",
       " 24: 'blowing glass',\n",
       " 112: 'eating chips',\n",
       " 349: 'tap dancing',\n",
       " 66: 'climbing a rope',\n",
       " 35: 'brush painting',\n",
       " 56: 'chopping wood',\n",
       " 334: 'stretching leg',\n",
       " 212: 'petting animal (not cat)',\n",
       " 11: 'baking cookies',\n",
       " 333: 'stretching arm',\n",
       " 16: 'beatboxing',\n",
       " 167: 'jetskiing',\n",
       " 21: 'bending metal',\n",
       " 319: 'sneezing',\n",
       " 131: 'folding clothes',\n",
       " 315: 'sled dog racing',\n",
       " 350: 'tapping guitar',\n",
       " 30: 'bouncing on trampoline',\n",
       " 388: 'waxing eyebrows',\n",
       " 1: 'air drumming',\n",
       " 175: 'kicking soccer ball',\n",
       " 381: 'washing hair',\n",
       " 272: 'riding mule',\n",
       " 25: 'blowing leaves',\n",
       " 335: 'strumming guitar',\n",
       " 222: 'playing cards',\n",
       " 323: 'snowkiting',\n",
       " 221: 'playing bass guitar',\n",
       " 4: 'applying cream',\n",
       " 296: 'shooting basketball',\n",
       " 378: 'walking the dog',\n",
       " 367: 'triple jump',\n",
       " 294: 'shearing sheep',\n",
       " 58: 'clay pottery making',\n",
       " 40: 'bungee jumping',\n",
       " 372: 'unloading truck',\n",
       " 301: 'shuffling cards',\n",
       " 297: 'shooting goal (soccer)',\n",
       " 348: 'tango dancing',\n",
       " 302: 'side kick',\n",
       " 144: 'grinding meat',\n",
       " 398: 'yoga',\n",
       " 148: 'hammer throw',\n",
       " 52: 'changing oil',\n",
       " 54: 'checking tires',\n",
       " 207: 'parkour',\n",
       " 110: 'eating cake',\n",
       " 310: 'skiing slalom',\n",
       " 171: 'juggling soccer ball',\n",
       " 392: 'whistling',\n",
       " 123: 'feeding birds',\n",
       " 251: 'playing volleyball',\n",
       " 342: 'swing dancing',\n",
       " 308: 'skiing (not slalom or crosscountry)',\n",
       " 183: 'lunge',\n",
       " 92: 'disc golfing',\n",
       " 59: 'clean and jerk',\n",
       " 232: 'playing guitar',\n",
       " 10: 'baby waking up',\n",
       " 234: 'playing harp'}"
      ]
     },
     "execution_count": 8,
     "metadata": {},
     "output_type": "execute_result"
    }
   ],
   "source": [
    "kinetics_id_to_classname"
   ]
  },
  {
   "cell_type": "code",
   "execution_count": 9,
   "id": "d9699ff7-d026-4760-9ca8-1cf656333e41",
   "metadata": {},
   "outputs": [],
   "source": [
    "mean = [0.45, 0.45, 0.45]\n",
    "std = [0.225, 0.225, 0.225]\n",
    "\n",
    "# mean = [114.75, 114.75, 114.75]\n",
    "# std = [57.375, 57.375, 57.375]\n",
    "\n",
    "frames_per_second = 30\n",
    "model_transform_params  = {\n",
    "    \"x3d_xs\": {\n",
    "        \"side_size\": 182,\n",
    "        \"crop_size\": 182,\n",
    "        \"num_frames\": 4,\n",
    "        \"sampling_rate\": 12,\n",
    "    },\n",
    "    \"x3d_s\": {\n",
    "        \"side_size\": 182,\n",
    "        \"crop_size\": 182,\n",
    "        \"num_frames\": 13,\n",
    "        \"sampling_rate\": 6,\n",
    "    },\n",
    "    \"x3d_m\": {\n",
    "        \"side_size\": 256,\n",
    "        \"crop_size\": 224, #256 -> 224로 바꾸었음\n",
    "        \"num_frames\": 16,\n",
    "        \"sampling_rate\": 1,\n",
    "    },\n",
    "    \"i3d_r50\": {\n",
    "        \"side_size\": 256,\n",
    "        \"crop_size\": 224, #256 -> 224로 바꾸었음\n",
    "        \"num_frames\": 16,\n",
    "        \"sampling_rate\": 1,\n",
    "    }\n",
    "}\n",
    "\n",
    "# Get transform parameters based on model\n",
    "transform_params = model_transform_params[model_name]\n",
    "\n",
    "# Note that this transform is specific to the slow_R50 model.\n",
    "transform =  ApplyTransformToKey(\n",
    "    key=\"video\",\n",
    "    transform=Compose(\n",
    "        [\n",
    "            UniformTemporalSubsample(transform_params[\"num_frames\"]),\n",
    "            Lambda(lambda x: x/255.0),\n",
    "            NormalizeVideo(mean, std),\n",
    "            # ShortSideScale(size=transform_params[\"side_size\"]),\n",
    "            # CenterCropVideo( -> RandomCrop으로 바꿈\n",
    "            #     crop_size=(transform_params[\"crop_size\"], transform_params[\"crop_size\"])\n",
    "            # )\n",
    "            # RandomCropVideo(\n",
    "            #     size=(transform_params[\"crop_size\"], transform_params[\"crop_size\"])\n",
    "            # )\n",
    "            # TenCrop(\n",
    "            #     size=transform_params[\"crop_size\"]\n",
    "            # )\n",
    "            \n",
    "        ]\n",
    "    ),\n",
    ")\n",
    "\n",
    "# The duration of the input clip is also specific to the model.\n",
    "clip_duration = (transform_params[\"num_frames\"] * transform_params[\"sampling_rate\"])/frames_per_second"
   ]
  },
  {
   "cell_type": "code",
   "execution_count": 10,
   "id": "bbd8ea75-fe77-4f71-a23e-1a02d91091ae",
   "metadata": {},
   "outputs": [
    {
     "data": {
      "text/plain": [
       "934"
      ]
     },
     "execution_count": 10,
     "metadata": {},
     "output_type": "execute_result"
    }
   ],
   "source": [
    "# url_link = \"https://dl.fbaipublicfiles.com/pytorchvideo/projects/archery.mp4\"\n",
    "# video_path = 'archery.mp4'\n",
    "import glob\n",
    "\n",
    "video_paths = glob.glob('/home/workspaces/datasets/UCF_Crimes/videos/abnormal/*.mp4')\n",
    "len(video_paths)\n",
    "# video_path = 'Normal_Videos_003_x264.mp4'\n",
    "# try: urllib.URLopener().retrieve(url_link, video_path)\n",
    "# except: urllib.request.urlretrieve(url_link, video_path)"
   ]
  },
  {
   "cell_type": "code",
   "execution_count": 11,
   "id": "95591766-72be-47a0-848b-238385d51c17",
   "metadata": {},
   "outputs": [
    {
     "data": {
      "text/plain": [
       "(0.5333333333333333,\n",
       " '/home/workspaces/datasets/UCF_Crimes/videos/normal/Normal_Videos173_x264.mp4')"
      ]
     },
     "execution_count": 11,
     "metadata": {},
     "output_type": "execute_result"
    }
   ],
   "source": [
    "clip_duration, video_paths[0]"
   ]
  },
  {
   "cell_type": "code",
   "execution_count": 12,
   "id": "042b2220-0452-4531-be2d-714a71776284",
   "metadata": {},
   "outputs": [
    {
     "data": {
      "text/plain": [
       "('/home/workspaces/datasets/UCF_Crimes/features_x3d/normal/Normal_Videos173_x264.npy',\n",
       " '/home/workspaces/datasets/UCF_Crimes/features_x3d/normal')"
      ]
     },
     "execution_count": 12,
     "metadata": {},
     "output_type": "execute_result"
    }
   ],
   "source": [
    "import os\n",
    "video_path = video_paths[0]\n",
    "save_path = os.path.splitext(video_path.replace('videos', 'features_x3d'))[0] + '.npy'\n",
    "save_path, os.path.dirname(save_path)"
   ]
  },
  {
   "cell_type": "code",
   "execution_count": 16,
   "id": "21504973-5b77-470a-8861-f8c8030dd948",
   "metadata": {},
   "outputs": [],
   "source": [
    "trans_video = transform(video_data)['video']"
   ]
  },
  {
   "cell_type": "code",
   "execution_count": 27,
   "id": "e847394c-d51c-4ac8-8e88-f81f6c375367",
   "metadata": {},
   "outputs": [
    {
     "data": {
      "text/plain": [
       "torch.Size([3, 16, 224, 224])"
      ]
     },
     "execution_count": 27,
     "metadata": {},
     "output_type": "execute_result"
    }
   ],
   "source": [
    "tencrop(trans_video)[0].shape\n",
    "# trans_video.shape"
   ]
  },
  {
   "cell_type": "code",
   "execution_count": 36,
   "id": "cda57faf-4fa0-47d0-8920-3a9fe11a7575",
   "metadata": {},
   "outputs": [
    {
     "name": "stderr",
     "output_type": "stream",
     "text": [
      "100%|██████████| 230/230 [1:58:55<00:00, 31.02s/it]   \n"
     ]
    }
   ],
   "source": [
    "import os\n",
    "import numpy as np\n",
    "from tqdm import tqdm\n",
    "# Select the duration of the clip to load by specifying the start and end duration\n",
    "# The start_sec should correspond to where the action occurs in the video\n",
    "\n",
    "video_paths = glob.glob('/home/workspaces/datasets/UCF_Crimes/videos/normal/*.mp4')\n",
    "tencrop = TenCrop((224,224))\n",
    "\n",
    "batch_size = 8\n",
    "num_crop = 10\n",
    "\n",
    "# 308\n",
    "\n",
    "for video_path in tqdm(video_paths[704:]):\n",
    "    save_path = os.path.splitext(video_path.replace('videos', 'features_x3d'))[0] + '.npy'\n",
    "    os.makedirs(os.path.dirname(save_path), exist_ok=True)\n",
    "    \n",
    "    # Initialize an EncodedVideo helper class and load the video\n",
    "    video = EncodedVideo.from_path(video_path)\n",
    "    video_duration = float(video.duration)\n",
    "\n",
    "    # video to features\n",
    "    end_sec = 0\n",
    "    features = []\n",
    "    force_break = False\n",
    "    while(end_sec < video_duration):\n",
    "        if force_break: break\n",
    "        \n",
    "        inputs = []\n",
    "        # load batch frames\n",
    "        for idx in range(batch_size):\n",
    "            if end_sec >= video_duration: break\n",
    "        \n",
    "            start_sec = end_sec\n",
    "            end_sec = start_sec + clip_duration\n",
    "\n",
    "            # Load the desired clip\n",
    "            video_data = video.get_clip(start_sec=start_sec, end_sec=end_sec)\n",
    "            \n",
    "            if video_data['video'] is None: \n",
    "                force_break = True\n",
    "                break\n",
    "            \n",
    "            trans_video = transform(video_data)['video']\n",
    "            \n",
    "            # for _ in range(num_crop):\n",
    "                # Apply a transform to normalize the video input\n",
    "                \n",
    "\n",
    "                # Move the inputs to the desired device\n",
    "            \n",
    "            crops = tencrop(trans_video)\n",
    "            \n",
    "            for crop in crops:\n",
    "                inputs.append(crop)\n",
    "                \n",
    "        if not force_break:\n",
    "            inputs = torch.stack(inputs) # [batch_size*num_crop, 3, 16, 224, 224]\n",
    "            # print(inputs.shape)\n",
    "\n",
    "            # encode\n",
    "            with torch.no_grad():\n",
    "                feature = model(inputs.to(device)) # [batch_size*num_crop, 2048]        \n",
    "                features.append(feature)\n",
    "\n",
    "    features = torch.cat(features) # [?*batch_size*num_crop, 2048]\n",
    "    # print(features.shape)\n",
    "    features = torch.reshape(features, (-1, num_crop, 2048)) # [?, num_crop, 2048] == [B, D, F]\n",
    "    # print(features.shape)\n",
    "\n",
    "    features = features.cpu().numpy()\n",
    "    np.save(save_path, features)"
   ]
  },
  {
   "cell_type": "code",
   "execution_count": 34,
   "id": "2b000a04-61df-43a8-9b85-e48f0b369390",
   "metadata": {
    "scrolled": true,
    "tags": []
   },
   "outputs": [
    {
     "data": {
      "text/plain": [
       "35.20000000000003"
      ]
     },
     "execution_count": 34,
     "metadata": {},
     "output_type": "execute_result"
    }
   ],
   "source": [
    "start_sec"
   ]
  },
  {
   "cell_type": "code",
   "execution_count": null,
   "id": "fe75f28c-eddb-4b7b-b33b-d3da9aad2ed1",
   "metadata": {
    "scrolled": true,
    "tags": []
   },
   "outputs": [
    {
     "name": "stderr",
     "output_type": "stream",
     "text": [
      "  1%|          | 5/950 [00:59<4:05:56, 15.61s/it]"
     ]
    },
    {
     "name": "stdout",
     "output_type": "stream",
     "text": [
      "force break: /home/workspaces/datasets/UCF_Crimes/videos/abnormal/Explosion043_x264.mp4\n"
     ]
    },
    {
     "name": "stderr",
     "output_type": "stream",
     "text": [
      "  3%|▎         | 30/950 [05:56<3:13:47, 12.64s/it]"
     ]
    },
    {
     "name": "stdout",
     "output_type": "stream",
     "text": [
      "force break: /home/workspaces/datasets/UCF_Crimes/videos/abnormal/Vandalism048_x264.mp4\n"
     ]
    },
    {
     "name": "stderr",
     "output_type": "stream",
     "text": [
      "  3%|▎         | 31/950 [06:23<4:17:00, 16.78s/it]"
     ]
    },
    {
     "name": "stdout",
     "output_type": "stream",
     "text": [
      "force break: /home/workspaces/datasets/UCF_Crimes/videos/abnormal/RoadAccidents095_x264.mp4\n"
     ]
    },
    {
     "name": "stderr",
     "output_type": "stream",
     "text": [
      "  5%|▍         | 43/950 [09:44<3:44:16, 14.84s/it]"
     ]
    },
    {
     "name": "stdout",
     "output_type": "stream",
     "text": [
      "force break: /home/workspaces/datasets/UCF_Crimes/videos/abnormal/Explosion004_x264.mp4\n"
     ]
    },
    {
     "name": "stderr",
     "output_type": "stream",
     "text": [
      "  5%|▍         | 44/950 [10:01<3:53:04, 15.44s/it]"
     ]
    },
    {
     "name": "stdout",
     "output_type": "stream",
     "text": [
      "force break: /home/workspaces/datasets/UCF_Crimes/videos/abnormal/Fighting014_x264.mp4\n"
     ]
    },
    {
     "name": "stderr",
     "output_type": "stream",
     "text": [
      "  5%|▍         | 45/950 [10:02<2:46:57, 11.07s/it]"
     ]
    },
    {
     "name": "stdout",
     "output_type": "stream",
     "text": [
      "force break: /home/workspaces/datasets/UCF_Crimes/videos/abnormal/RoadAccidents100_x264.mp4\n"
     ]
    },
    {
     "name": "stderr",
     "output_type": "stream",
     "text": [
      "  6%|▌         | 58/950 [13:21<2:23:18,  9.64s/it]"
     ]
    },
    {
     "name": "stdout",
     "output_type": "stream",
     "text": [
      "force break: /home/workspaces/datasets/UCF_Crimes/videos/abnormal/RoadAccidents125_x264.mp4\n"
     ]
    },
    {
     "name": "stderr",
     "output_type": "stream",
     "text": [
      "  7%|▋         | 63/950 [15:03<4:21:46, 17.71s/it]"
     ]
    },
    {
     "name": "stdout",
     "output_type": "stream",
     "text": [
      "force break: /home/workspaces/datasets/UCF_Crimes/videos/abnormal/RoadAccidents048_x264.mp4\n"
     ]
    },
    {
     "name": "stderr",
     "output_type": "stream",
     "text": [
      "  7%|▋         | 68/950 [15:48<2:35:33, 10.58s/it]"
     ]
    },
    {
     "name": "stdout",
     "output_type": "stream",
     "text": [
      "force break: /home/workspaces/datasets/UCF_Crimes/videos/abnormal/Assault005_x264.mp4\n"
     ]
    },
    {
     "name": "stderr",
     "output_type": "stream",
     "text": [
      "  7%|▋         | 70/950 [16:08<2:40:34, 10.95s/it]"
     ]
    },
    {
     "name": "stdout",
     "output_type": "stream",
     "text": [
      "force break: /home/workspaces/datasets/UCF_Crimes/videos/abnormal/RoadAccidents142_x264.mp4\n"
     ]
    },
    {
     "name": "stderr",
     "output_type": "stream",
     "text": [
      "  8%|▊         | 76/950 [17:19<3:28:06, 14.29s/it]"
     ]
    },
    {
     "name": "stdout",
     "output_type": "stream",
     "text": [
      "force break: /home/workspaces/datasets/UCF_Crimes/videos/abnormal/Burglary066_x264.mp4\n"
     ]
    },
    {
     "name": "stderr",
     "output_type": "stream",
     "text": [
      "  8%|▊         | 80/950 [18:32<3:30:02, 14.49s/it]"
     ]
    },
    {
     "name": "stdout",
     "output_type": "stream",
     "text": [
      "force break: /home/workspaces/datasets/UCF_Crimes/videos/abnormal/Robbery138_x264.mp4\n"
     ]
    },
    {
     "name": "stderr",
     "output_type": "stream",
     "text": [
      "  9%|▉         | 85/950 [19:28<2:37:50, 10.95s/it]"
     ]
    },
    {
     "name": "stdout",
     "output_type": "stream",
     "text": [
      "force break: /home/workspaces/datasets/UCF_Crimes/videos/abnormal/Explosion007_x264.mp4\n"
     ]
    },
    {
     "name": "stderr",
     "output_type": "stream",
     "text": [
      "  9%|▉         | 88/950 [20:44<4:02:54, 16.91s/it]"
     ]
    },
    {
     "name": "stdout",
     "output_type": "stream",
     "text": [
      "force break: /home/workspaces/datasets/UCF_Crimes/videos/abnormal/Stealing083_x264.mp4\n"
     ]
    },
    {
     "name": "stderr",
     "output_type": "stream",
     "text": [
      " 10%|█         | 98/950 [22:32<2:41:56, 11.40s/it]"
     ]
    },
    {
     "name": "stdout",
     "output_type": "stream",
     "text": [
      "force break: /home/workspaces/datasets/UCF_Crimes/videos/abnormal/RoadAccidents078_x264.mp4\n"
     ]
    },
    {
     "name": "stderr",
     "output_type": "stream",
     "text": [
      " 11%|█         | 105/950 [24:33<3:20:55, 14.27s/it]"
     ]
    },
    {
     "name": "stdout",
     "output_type": "stream",
     "text": [
      "force break: /home/workspaces/datasets/UCF_Crimes/videos/abnormal/Stealing101_x264.mp4\n"
     ]
    },
    {
     "name": "stderr",
     "output_type": "stream",
     "text": [
      " 12%|█▏        | 111/950 [25:54<2:47:32, 11.98s/it]"
     ]
    },
    {
     "name": "stdout",
     "output_type": "stream",
     "text": [
      "force break: /home/workspaces/datasets/UCF_Crimes/videos/abnormal/Assault007_x264.mp4\n"
     ]
    },
    {
     "name": "stderr",
     "output_type": "stream",
     "text": [
      " 13%|█▎        | 121/950 [26:53<1:36:18,  6.97s/it]"
     ]
    },
    {
     "name": "stdout",
     "output_type": "stream",
     "text": [
      "force break: /home/workspaces/datasets/UCF_Crimes/videos/abnormal/Fighting012_x264.mp4\n"
     ]
    },
    {
     "name": "stderr",
     "output_type": "stream",
     "text": [
      " 13%|█▎        | 124/950 [27:26<2:12:33,  9.63s/it]"
     ]
    },
    {
     "name": "stdout",
     "output_type": "stream",
     "text": [
      "force break: /home/workspaces/datasets/UCF_Crimes/videos/abnormal/Shoplifting029_x264.mp4\n"
     ]
    },
    {
     "name": "stderr",
     "output_type": "stream",
     "text": [
      " 13%|█▎        | 125/950 [27:34<2:05:38,  9.14s/it]"
     ]
    },
    {
     "name": "stdout",
     "output_type": "stream",
     "text": [
      "force break: /home/workspaces/datasets/UCF_Crimes/videos/abnormal/RoadAccidents133_x264.mp4\n"
     ]
    },
    {
     "name": "stderr",
     "output_type": "stream",
     "text": [
      " 14%|█▎        | 129/950 [27:54<1:29:07,  6.51s/it]"
     ]
    },
    {
     "name": "stdout",
     "output_type": "stream",
     "text": [
      "force break: /home/workspaces/datasets/UCF_Crimes/videos/abnormal/Abuse025_x264.mp4\n"
     ]
    },
    {
     "name": "stderr",
     "output_type": "stream",
     "text": [
      " 14%|█▎        | 130/950 [28:19<2:46:33, 12.19s/it]"
     ]
    },
    {
     "name": "stdout",
     "output_type": "stream",
     "text": [
      "force break: /home/workspaces/datasets/UCF_Crimes/videos/abnormal/Shooting006_x264.mp4\n"
     ]
    },
    {
     "name": "stderr",
     "output_type": "stream",
     "text": [
      " 16%|█▌        | 149/950 [33:09<1:52:35,  8.43s/it]"
     ]
    },
    {
     "name": "stdout",
     "output_type": "stream",
     "text": [
      "force break: /home/workspaces/datasets/UCF_Crimes/videos/abnormal/Explosion044_x264.mp4\n",
      "force break: /home/workspaces/datasets/UCF_Crimes/videos/abnormal/Robbery120_x264.mp4\n"
     ]
    },
    {
     "name": "stderr",
     "output_type": "stream",
     "text": [
      " 16%|█▋        | 155/950 [34:00<1:48:44,  8.21s/it]"
     ]
    },
    {
     "name": "stdout",
     "output_type": "stream",
     "text": [
      "force break: /home/workspaces/datasets/UCF_Crimes/videos/abnormal/Assault036_x264.mp4\n"
     ]
    },
    {
     "name": "stderr",
     "output_type": "stream",
     "text": [
      " 17%|█▋        | 157/950 [34:12<1:35:58,  7.26s/it]"
     ]
    },
    {
     "name": "stdout",
     "output_type": "stream",
     "text": [
      "force break: /home/workspaces/datasets/UCF_Crimes/videos/abnormal/Burglary065_x264.mp4\n"
     ]
    },
    {
     "name": "stderr",
     "output_type": "stream",
     "text": [
      " 18%|█▊        | 173/950 [37:54<2:00:49,  9.33s/it]"
     ]
    },
    {
     "name": "stdout",
     "output_type": "stream",
     "text": [
      "force break: /home/workspaces/datasets/UCF_Crimes/videos/abnormal/Stealing102_x264.mp4\n"
     ]
    },
    {
     "name": "stderr",
     "output_type": "stream",
     "text": [
      " 18%|█▊        | 174/950 [37:59<1:41:17,  7.83s/it]"
     ]
    },
    {
     "name": "stdout",
     "output_type": "stream",
     "text": [
      "force break: /home/workspaces/datasets/UCF_Crimes/videos/abnormal/Stealing096_x264.mp4\n"
     ]
    },
    {
     "name": "stderr",
     "output_type": "stream",
     "text": [
      " 20%|██        | 192/950 [43:15<4:00:01, 19.00s/it]"
     ]
    },
    {
     "name": "stdout",
     "output_type": "stream",
     "text": [
      "force break: /home/workspaces/datasets/UCF_Crimes/videos/abnormal/Burglary010_x264.mp4\n"
     ]
    },
    {
     "name": "stderr",
     "output_type": "stream",
     "text": [
      " 20%|██        | 193/950 [43:37<4:11:09, 19.91s/it]"
     ]
    },
    {
     "name": "stdout",
     "output_type": "stream",
     "text": [
      "force break: /home/workspaces/datasets/UCF_Crimes/videos/abnormal/Shoplifting019_x264.mp4\n"
     ]
    },
    {
     "name": "stderr",
     "output_type": "stream",
     "text": [
      " 21%|██        | 200/950 [44:09<1:16:02,  6.08s/it]"
     ]
    },
    {
     "name": "stdout",
     "output_type": "stream",
     "text": [
      "force break: /home/workspaces/datasets/UCF_Crimes/videos/abnormal/Shooting041_x264.mp4\n"
     ]
    },
    {
     "name": "stderr",
     "output_type": "stream",
     "text": [
      " 22%|██▏       | 211/950 [46:07<3:15:06, 15.84s/it]"
     ]
    },
    {
     "name": "stdout",
     "output_type": "stream",
     "text": [
      "force break: /home/workspaces/datasets/UCF_Crimes/videos/abnormal/Assault010_x264.mp4\n"
     ]
    },
    {
     "name": "stderr",
     "output_type": "stream",
     "text": [
      " 23%|██▎       | 216/950 [48:11<3:52:20, 18.99s/it]"
     ]
    },
    {
     "name": "stdout",
     "output_type": "stream",
     "text": [
      "force break: /home/workspaces/datasets/UCF_Crimes/videos/abnormal/Shooting046_x264.mp4\n"
     ]
    },
    {
     "name": "stderr",
     "output_type": "stream",
     "text": [
      " 24%|██▎       | 225/950 [50:24<2:27:17, 12.19s/it]"
     ]
    },
    {
     "name": "stdout",
     "output_type": "stream",
     "text": [
      "force break: /home/workspaces/datasets/UCF_Crimes/videos/abnormal/Robbery069_x264.mp4\n"
     ]
    },
    {
     "name": "stderr",
     "output_type": "stream",
     "text": [
      " 24%|██▍       | 230/950 [51:08<1:33:05,  7.76s/it]"
     ]
    },
    {
     "name": "stdout",
     "output_type": "stream",
     "text": [
      "force break: /home/workspaces/datasets/UCF_Crimes/videos/abnormal/Shoplifting054_x264.mp4\n"
     ]
    },
    {
     "name": "stderr",
     "output_type": "stream",
     "text": [
      " 51%|█████     | 484/950 [1:53:50<1:14:58,  9.65s/it]"
     ]
    },
    {
     "name": "stdout",
     "output_type": "stream",
     "text": [
      "force break: /home/workspaces/datasets/UCF_Crimes/videos/abnormal/Explosion042_x264.mp4\n"
     ]
    },
    {
     "name": "stderr",
     "output_type": "stream",
     "text": [
      " 52%|█████▏    | 491/950 [1:56:28<2:07:27, 16.66s/it]"
     ]
    },
    {
     "name": "stdout",
     "output_type": "stream",
     "text": [
      "force break: /home/workspaces/datasets/UCF_Crimes/videos/abnormal/Shoplifting025_x264.mp4\n"
     ]
    },
    {
     "name": "stderr",
     "output_type": "stream",
     "text": [
      " 52%|█████▏    | 494/950 [1:56:57<1:33:05, 12.25s/it]"
     ]
    },
    {
     "name": "stdout",
     "output_type": "stream",
     "text": [
      "force break: /home/workspaces/datasets/UCF_Crimes/videos/abnormal/Assault018_x264.mp4\n"
     ]
    },
    {
     "name": "stderr",
     "output_type": "stream",
     "text": [
      " 53%|█████▎    | 499/950 [1:57:45<1:13:44,  9.81s/it]"
     ]
    },
    {
     "name": "stdout",
     "output_type": "stream",
     "text": [
      "force break: /home/workspaces/datasets/UCF_Crimes/videos/abnormal/Vandalism009_x264.mp4\n"
     ]
    },
    {
     "name": "stderr",
     "output_type": "stream",
     "text": [
      " 53%|█████▎    | 502/950 [1:58:20<1:36:09, 12.88s/it]"
     ]
    },
    {
     "name": "stdout",
     "output_type": "stream",
     "text": [
      "force break: /home/workspaces/datasets/UCF_Crimes/videos/abnormal/Burglary059_x264.mp4\n"
     ]
    },
    {
     "name": "stderr",
     "output_type": "stream",
     "text": [
      " 53%|█████▎    | 503/950 [1:58:22<1:10:42,  9.49s/it]"
     ]
    },
    {
     "name": "stdout",
     "output_type": "stream",
     "text": [
      "force break: /home/workspaces/datasets/UCF_Crimes/videos/abnormal/Assault035_x264.mp4\n"
     ]
    },
    {
     "name": "stderr",
     "output_type": "stream",
     "text": [
      " 54%|█████▍    | 512/950 [2:01:43<3:28:40, 28.59s/it]"
     ]
    },
    {
     "name": "stdout",
     "output_type": "stream",
     "text": [
      "force break: /home/workspaces/datasets/UCF_Crimes/videos/abnormal/Fighting051_x264.mp4\n"
     ]
    },
    {
     "name": "stderr",
     "output_type": "stream",
     "text": [
      " 55%|█████▌    | 524/950 [2:04:02<1:54:37, 16.14s/it]"
     ]
    },
    {
     "name": "stdout",
     "output_type": "stream",
     "text": [
      "force break: /home/workspaces/datasets/UCF_Crimes/videos/abnormal/Robbery030_x264.mp4\n"
     ]
    },
    {
     "name": "stderr",
     "output_type": "stream",
     "text": [
      " 55%|█████▌    | 526/950 [2:04:19<1:23:57, 11.88s/it]"
     ]
    },
    {
     "name": "stdout",
     "output_type": "stream",
     "text": [
      "force break: /home/workspaces/datasets/UCF_Crimes/videos/abnormal/RoadAccidents016_x264.mp4\n"
     ]
    },
    {
     "name": "stderr",
     "output_type": "stream",
     "text": [
      " 56%|█████▌    | 532/950 [2:06:17<1:48:42, 15.60s/it]"
     ]
    },
    {
     "name": "stdout",
     "output_type": "stream",
     "text": [
      "force break: /home/workspaces/datasets/UCF_Crimes/videos/abnormal/Burglary045_x264.mp4\n"
     ]
    },
    {
     "name": "stderr",
     "output_type": "stream",
     "text": [
      " 56%|█████▌    | 533/950 [2:06:55<2:36:10, 22.47s/it]"
     ]
    },
    {
     "name": "stdout",
     "output_type": "stream",
     "text": [
      "force break: /home/workspaces/datasets/UCF_Crimes/videos/abnormal/Burglary085_x264.mp4\n"
     ]
    },
    {
     "name": "stderr",
     "output_type": "stream",
     "text": [
      " 57%|█████▋    | 539/950 [2:08:23<1:30:42, 13.24s/it]"
     ]
    },
    {
     "name": "stdout",
     "output_type": "stream",
     "text": [
      "force break: /home/workspaces/datasets/UCF_Crimes/videos/abnormal/Arson023_x264.mp4\n"
     ]
    },
    {
     "name": "stderr",
     "output_type": "stream",
     "text": [
      " 57%|█████▋    | 545/950 [2:09:29<1:13:51, 10.94s/it]"
     ]
    },
    {
     "name": "stdout",
     "output_type": "stream",
     "text": [
      "force break: /home/workspaces/datasets/UCF_Crimes/videos/abnormal/Fighting035_x264.mp4\n"
     ]
    },
    {
     "name": "stderr",
     "output_type": "stream",
     "text": [
      " 58%|█████▊    | 552/950 [2:10:44<1:02:35,  9.44s/it]"
     ]
    },
    {
     "name": "stdout",
     "output_type": "stream",
     "text": [
      "force break: /home/workspaces/datasets/UCF_Crimes/videos/abnormal/Robbery113_x264.mp4\n"
     ]
    },
    {
     "name": "stderr",
     "output_type": "stream",
     "text": [
      " 58%|█████▊    | 555/950 [2:11:25<1:29:21, 13.57s/it]"
     ]
    },
    {
     "name": "stdout",
     "output_type": "stream",
     "text": [
      "force break: /home/workspaces/datasets/UCF_Crimes/videos/abnormal/Arrest014_x264.mp4\n"
     ]
    },
    {
     "name": "stderr",
     "output_type": "stream",
     "text": [
      " 59%|█████▉    | 565/950 [2:14:42<1:09:23, 10.81s/it]"
     ]
    },
    {
     "name": "stdout",
     "output_type": "stream",
     "text": [
      "force break: /home/workspaces/datasets/UCF_Crimes/videos/abnormal/Abuse023_x264.mp4\n"
     ]
    },
    {
     "name": "stderr",
     "output_type": "stream",
     "text": [
      " 60%|█████▉    | 569/950 [2:15:04<48:26,  7.63s/it]  "
     ]
    },
    {
     "name": "stdout",
     "output_type": "stream",
     "text": [
      "force break: /home/workspaces/datasets/UCF_Crimes/videos/abnormal/Stealing019_x264.mp4\n"
     ]
    },
    {
     "name": "stderr",
     "output_type": "stream",
     "text": [
      " 61%|██████    | 576/950 [2:16:22<1:08:17, 10.95s/it]"
     ]
    },
    {
     "name": "stdout",
     "output_type": "stream",
     "text": [
      "force break: /home/workspaces/datasets/UCF_Crimes/videos/abnormal/Shoplifting010_x264.mp4\n"
     ]
    },
    {
     "name": "stderr",
     "output_type": "stream",
     "text": [
      " 61%|██████    | 579/950 [2:16:47<57:13,  9.25s/it]  "
     ]
    },
    {
     "name": "stdout",
     "output_type": "stream",
     "text": [
      "force break: /home/workspaces/datasets/UCF_Crimes/videos/abnormal/Arson039_x264.mp4\n"
     ]
    },
    {
     "name": "stderr",
     "output_type": "stream",
     "text": [
      " 62%|██████▏   | 587/950 [2:18:22<1:23:29, 13.80s/it]"
     ]
    },
    {
     "name": "stdout",
     "output_type": "stream",
     "text": [
      "force break: /home/workspaces/datasets/UCF_Crimes/videos/abnormal/Burglary069_x264.mp4\n"
     ]
    },
    {
     "name": "stderr",
     "output_type": "stream",
     "text": [
      " 63%|██████▎   | 601/950 [2:21:14<1:11:00, 12.21s/it]"
     ]
    },
    {
     "name": "stdout",
     "output_type": "stream",
     "text": [
      "force break: /home/workspaces/datasets/UCF_Crimes/videos/abnormal/Burglary020_x264.mp4\n"
     ]
    },
    {
     "name": "stderr",
     "output_type": "stream",
     "text": [
      " 64%|██████▎   | 605/950 [2:21:42<46:28,  8.08s/it]  "
     ]
    },
    {
     "name": "stdout",
     "output_type": "stream",
     "text": [
      "force break: /home/workspaces/datasets/UCF_Crimes/videos/abnormal/Stealing030_x264.mp4\n"
     ]
    },
    {
     "name": "stderr",
     "output_type": "stream",
     "text": [
      " 64%|██████▍   | 607/950 [2:21:57<45:10,  7.90s/it]"
     ]
    },
    {
     "name": "stdout",
     "output_type": "stream",
     "text": [
      "force break: /home/workspaces/datasets/UCF_Crimes/videos/abnormal/RoadAccidents112_x264.mp4\n"
     ]
    },
    {
     "name": "stderr",
     "output_type": "stream",
     "text": [
      " 64%|██████▍   | 609/950 [2:23:29<2:57:00, 31.14s/it]"
     ]
    },
    {
     "name": "stdout",
     "output_type": "stream",
     "text": [
      "force break: /home/workspaces/datasets/UCF_Crimes/videos/abnormal/Arrest012_x264.mp4\n"
     ]
    },
    {
     "name": "stderr",
     "output_type": "stream",
     "text": [
      " 65%|██████▍   | 614/950 [2:25:11<1:28:22, 15.78s/it]"
     ]
    },
    {
     "name": "stdout",
     "output_type": "stream",
     "text": [
      "force break: /home/workspaces/datasets/UCF_Crimes/videos/abnormal/RoadAccidents126_x264.mp4\n"
     ]
    },
    {
     "name": "stderr",
     "output_type": "stream",
     "text": [
      " 65%|██████▌   | 622/950 [2:26:44<46:51,  8.57s/it]  "
     ]
    },
    {
     "name": "stdout",
     "output_type": "stream",
     "text": [
      "force break: /home/workspaces/datasets/UCF_Crimes/videos/abnormal/Arson038_x264.mp4\n"
     ]
    },
    {
     "name": "stderr",
     "output_type": "stream",
     "text": [
      " 66%|██████▌   | 623/950 [2:26:55<50:03,  9.19s/it]"
     ]
    },
    {
     "name": "stdout",
     "output_type": "stream",
     "text": [
      "force break: /home/workspaces/datasets/UCF_Crimes/videos/abnormal/Robbery109_x264.mp4\n"
     ]
    },
    {
     "name": "stderr",
     "output_type": "stream",
     "text": [
      " 66%|██████▌   | 624/950 [2:27:17<1:10:34, 12.99s/it]"
     ]
    },
    {
     "name": "stdout",
     "output_type": "stream",
     "text": [
      "force break: /home/workspaces/datasets/UCF_Crimes/videos/abnormal/Shooting012_x264.mp4\n"
     ]
    },
    {
     "name": "stderr",
     "output_type": "stream",
     "text": [
      " 66%|██████▌   | 626/950 [2:28:23<2:19:16, 25.79s/it]"
     ]
    },
    {
     "name": "stdout",
     "output_type": "stream",
     "text": [
      "force break: /home/workspaces/datasets/UCF_Crimes/videos/abnormal/RoadAccidents145_x264.mp4\n"
     ]
    },
    {
     "name": "stderr",
     "output_type": "stream",
     "text": [
      " 68%|██████▊   | 650/950 [2:34:06<56:02, 11.21s/it]  "
     ]
    },
    {
     "name": "stdout",
     "output_type": "stream",
     "text": [
      "force break: /home/workspaces/datasets/UCF_Crimes/videos/abnormal/Assault050_x264.mp4\n"
     ]
    },
    {
     "name": "stderr",
     "output_type": "stream",
     "text": [
      " 69%|██████▊   | 651/950 [2:34:44<1:35:36, 19.18s/it]"
     ]
    },
    {
     "name": "stdout",
     "output_type": "stream",
     "text": [
      "force break: /home/workspaces/datasets/UCF_Crimes/videos/abnormal/Fighting026_x264.mp4\n"
     ]
    },
    {
     "name": "stderr",
     "output_type": "stream",
     "text": [
      " 72%|███████▏  | 680/950 [2:42:05<1:29:28, 19.88s/it]"
     ]
    },
    {
     "name": "stdout",
     "output_type": "stream",
     "text": [
      "force break: /home/workspaces/datasets/UCF_Crimes/videos/abnormal/Explosion021_x264.mp4\n"
     ]
    },
    {
     "name": "stderr",
     "output_type": "stream",
     "text": [
      " 72%|███████▏  | 682/950 [2:42:18<1:00:35, 13.57s/it]"
     ]
    },
    {
     "name": "stdout",
     "output_type": "stream",
     "text": [
      "force break: /home/workspaces/datasets/UCF_Crimes/videos/abnormal/Robbery105_x264.mp4\n"
     ]
    },
    {
     "name": "stderr",
     "output_type": "stream",
     "text": [
      " 73%|███████▎  | 689/950 [2:44:03<54:55, 12.63s/it]  "
     ]
    },
    {
     "name": "stdout",
     "output_type": "stream",
     "text": [
      "force break: /home/workspaces/datasets/UCF_Crimes/videos/abnormal/Shoplifting003_x264.mp4\n"
     ]
    },
    {
     "name": "stderr",
     "output_type": "stream",
     "text": [
      " 74%|███████▍  | 702/950 [2:46:32<53:10, 12.86s/it]  "
     ]
    },
    {
     "name": "stdout",
     "output_type": "stream",
     "text": [
      "force break: /home/workspaces/datasets/UCF_Crimes/videos/abnormal/Fighting033_x264.mp4\n"
     ]
    },
    {
     "name": "stderr",
     "output_type": "stream",
     "text": [
      " 74%|███████▍  | 704/950 [2:46:46<41:47, 10.19s/it]"
     ]
    },
    {
     "name": "stdout",
     "output_type": "stream",
     "text": [
      "force break: /home/workspaces/datasets/UCF_Crimes/videos/abnormal/Shooting019_x264.mp4\n"
     ]
    },
    {
     "name": "stderr",
     "output_type": "stream",
     "text": [
      " 75%|███████▌  | 716/950 [2:48:23<28:56,  7.42s/it]"
     ]
    },
    {
     "name": "stdout",
     "output_type": "stream",
     "text": [
      "force break: /home/workspaces/datasets/UCF_Crimes/videos/abnormal/Shooting044_x264.mp4\n"
     ]
    },
    {
     "name": "stderr",
     "output_type": "stream",
     "text": [
      " 76%|███████▌  | 718/950 [2:48:52<43:50, 11.34s/it]"
     ]
    },
    {
     "name": "stdout",
     "output_type": "stream",
     "text": [
      "force break: /home/workspaces/datasets/UCF_Crimes/videos/abnormal/Assault045_x264.mp4\n"
     ]
    },
    {
     "name": "stderr",
     "output_type": "stream",
     "text": [
      " 76%|███████▌  | 719/950 [2:48:56<35:03,  9.11s/it]"
     ]
    },
    {
     "name": "stdout",
     "output_type": "stream",
     "text": [
      "force break: /home/workspaces/datasets/UCF_Crimes/videos/abnormal/Abuse018_x264.mp4\n"
     ]
    },
    {
     "name": "stderr",
     "output_type": "stream",
     "text": [
      " 77%|███████▋  | 728/950 [2:59:30<1:56:28, 31.48s/it]  "
     ]
    },
    {
     "name": "stdout",
     "output_type": "stream",
     "text": [
      "force break: /home/workspaces/datasets/UCF_Crimes/videos/abnormal/Fighting024_x264.mp4\n"
     ]
    },
    {
     "name": "stderr",
     "output_type": "stream",
     "text": [
      " 77%|███████▋  | 730/950 [3:00:04<1:25:49, 23.41s/it]"
     ]
    },
    {
     "name": "stdout",
     "output_type": "stream",
     "text": [
      "force break: /home/workspaces/datasets/UCF_Crimes/videos/abnormal/Burglary072_x264.mp4\n"
     ]
    },
    {
     "name": "stderr",
     "output_type": "stream",
     "text": [
      " 78%|███████▊  | 737/950 [3:00:51<29:53,  8.42s/it]  "
     ]
    },
    {
     "name": "stdout",
     "output_type": "stream",
     "text": [
      "force break: /home/workspaces/datasets/UCF_Crimes/videos/abnormal/Stealing105_x264.mp4\n"
     ]
    },
    {
     "name": "stderr",
     "output_type": "stream",
     "text": [
      " 78%|███████▊  | 741/950 [3:01:38<38:45, 11.13s/it]"
     ]
    },
    {
     "name": "stdout",
     "output_type": "stream",
     "text": [
      "force break: /home/workspaces/datasets/UCF_Crimes/videos/abnormal/Robbery007_x264.mp4\n"
     ]
    },
    {
     "name": "stderr",
     "output_type": "stream",
     "text": [
      " 79%|███████▊  | 746/950 [3:02:43<43:23, 12.76s/it]"
     ]
    },
    {
     "name": "stdout",
     "output_type": "stream",
     "text": [
      "force break: /home/workspaces/datasets/UCF_Crimes/videos/abnormal/Vandalism028_x264.mp4\n"
     ]
    },
    {
     "name": "stderr",
     "output_type": "stream",
     "text": [
      " 79%|███████▉  | 749/950 [3:03:20<39:40, 11.85s/it]"
     ]
    },
    {
     "name": "stdout",
     "output_type": "stream",
     "text": [
      "force break: /home/workspaces/datasets/UCF_Crimes/videos/abnormal/Arrest028_x264.mp4\n"
     ]
    },
    {
     "name": "stderr",
     "output_type": "stream",
     "text": [
      " 79%|███████▉  | 754/950 [3:03:55<22:07,  6.77s/it]"
     ]
    },
    {
     "name": "stdout",
     "output_type": "stream",
     "text": [
      "force break: /home/workspaces/datasets/UCF_Crimes/videos/abnormal/RoadAccidents070_x264.mp4\n"
     ]
    },
    {
     "name": "stderr",
     "output_type": "stream",
     "text": [
      " 80%|████████  | 760/950 [3:04:30<18:47,  5.94s/it]"
     ]
    },
    {
     "name": "stdout",
     "output_type": "stream",
     "text": [
      "force break: /home/workspaces/datasets/UCF_Crimes/videos/abnormal/Fighting019_x264.mp4\n"
     ]
    },
    {
     "name": "stderr",
     "output_type": "stream",
     "text": [
      " 82%|████████▏ | 783/950 [3:09:27<28:05, 10.09s/it]  "
     ]
    },
    {
     "name": "stdout",
     "output_type": "stream",
     "text": [
      "force break: /home/workspaces/datasets/UCF_Crimes/videos/abnormal/Robbery124_x264.mp4\n"
     ]
    },
    {
     "name": "stderr",
     "output_type": "stream",
     "text": [
      " 83%|████████▎ | 789/950 [3:11:22<57:06, 21.28s/it]"
     ]
    },
    {
     "name": "stdout",
     "output_type": "stream",
     "text": [
      "force break: /home/workspaces/datasets/UCF_Crimes/videos/abnormal/Abuse002_x264.mp4\n"
     ]
    },
    {
     "name": "stderr",
     "output_type": "stream",
     "text": [
      " 84%|████████▍ | 796/950 [3:12:03<21:03,  8.21s/it]"
     ]
    },
    {
     "name": "stdout",
     "output_type": "stream",
     "text": [
      "force break: /home/workspaces/datasets/UCF_Crimes/videos/abnormal/Robbery058_x264.mp4\n",
      "force break: /home/workspaces/datasets/UCF_Crimes/videos/abnormal/Explosion023_x264.mp4\n"
     ]
    },
    {
     "name": "stderr",
     "output_type": "stream",
     "text": [
      " 84%|████████▍ | 801/950 [3:12:43<20:00,  8.06s/it]"
     ]
    },
    {
     "name": "stdout",
     "output_type": "stream",
     "text": [
      "force break: /home/workspaces/datasets/UCF_Crimes/videos/abnormal/Shoplifting015_x264.mp4\n"
     ]
    },
    {
     "name": "stderr",
     "output_type": "stream",
     "text": [
      " 85%|████████▍ | 803/950 [3:13:03<21:37,  8.83s/it]"
     ]
    },
    {
     "name": "stdout",
     "output_type": "stream",
     "text": [
      "force break: /home/workspaces/datasets/UCF_Crimes/videos/abnormal/Abuse020_x264.mp4\n"
     ]
    },
    {
     "name": "stderr",
     "output_type": "stream",
     "text": [
      " 85%|████████▍ | 804/950 [3:13:14<23:07,  9.50s/it]"
     ]
    },
    {
     "name": "stdout",
     "output_type": "stream",
     "text": [
      "force break: /home/workspaces/datasets/UCF_Crimes/videos/abnormal/Assault012_x264.mp4\n"
     ]
    },
    {
     "name": "stderr",
     "output_type": "stream",
     "text": [
      " 86%|████████▌ | 816/950 [3:15:10<33:27, 14.98s/it]"
     ]
    },
    {
     "name": "stdout",
     "output_type": "stream",
     "text": [
      "force break: /home/workspaces/datasets/UCF_Crimes/videos/abnormal/Assault008_x264.mp4\n"
     ]
    },
    {
     "name": "stderr",
     "output_type": "stream",
     "text": [
      " 86%|████████▌ | 818/950 [3:15:19<20:29,  9.32s/it]"
     ]
    },
    {
     "name": "stdout",
     "output_type": "stream",
     "text": [
      "force break: /home/workspaces/datasets/UCF_Crimes/videos/abnormal/Assault029_x264.mp4\n"
     ]
    },
    {
     "name": "stderr",
     "output_type": "stream",
     "text": [
      " 87%|████████▋ | 825/950 [3:16:29<21:57, 10.54s/it]"
     ]
    },
    {
     "name": "stdout",
     "output_type": "stream",
     "text": [
      "force break: /home/workspaces/datasets/UCF_Crimes/videos/abnormal/Fighting020_x264.mp4\n"
     ]
    },
    {
     "name": "stderr",
     "output_type": "stream",
     "text": [
      " 87%|████████▋ | 828/950 [3:17:10<27:32, 13.54s/it]"
     ]
    },
    {
     "name": "stdout",
     "output_type": "stream",
     "text": [
      "force break: /home/workspaces/datasets/UCF_Crimes/videos/abnormal/Stealing069_x264.mp4\n"
     ]
    },
    {
     "name": "stderr",
     "output_type": "stream",
     "text": [
      " 87%|████████▋ | 829/950 [3:17:13<20:52, 10.35s/it]"
     ]
    },
    {
     "name": "stdout",
     "output_type": "stream",
     "text": [
      "force break: /home/workspaces/datasets/UCF_Crimes/videos/abnormal/Assault009_x264.mp4\n"
     ]
    },
    {
     "name": "stderr",
     "output_type": "stream",
     "text": [
      " 89%|████████▊ | 842/950 [3:19:17<16:46,  9.32s/it]"
     ]
    },
    {
     "name": "stdout",
     "output_type": "stream",
     "text": [
      "force break: /home/workspaces/datasets/UCF_Crimes/videos/abnormal/Vandalism030_x264.mp4\n"
     ]
    },
    {
     "name": "stderr",
     "output_type": "stream",
     "text": [
      " 89%|████████▉ | 845/950 [3:19:30<10:23,  5.94s/it]"
     ]
    },
    {
     "name": "stdout",
     "output_type": "stream",
     "text": [
      "force break: /home/workspaces/datasets/UCF_Crimes/videos/abnormal/Abuse010_x264.mp4\n",
      "force break: /home/workspaces/datasets/UCF_Crimes/videos/abnormal/Robbery080_x264.mp4\n"
     ]
    },
    {
     "name": "stderr",
     "output_type": "stream",
     "text": [
      " 89%|████████▉ | 846/950 [3:19:39<11:55,  6.88s/it]"
     ]
    },
    {
     "name": "stdout",
     "output_type": "stream",
     "text": [
      "force break: /home/workspaces/datasets/UCF_Crimes/videos/abnormal/RoadAccidents093_x264.mp4\n"
     ]
    },
    {
     "name": "stderr",
     "output_type": "stream",
     "text": [
      " 90%|████████▉ | 851/950 [3:20:38<16:48, 10.19s/it]"
     ]
    },
    {
     "name": "stdout",
     "output_type": "stream",
     "text": [
      "force break: /home/workspaces/datasets/UCF_Crimes/videos/abnormal/Stealing071_x264.mp4\n"
     ]
    },
    {
     "name": "stderr",
     "output_type": "stream",
     "text": [
      " 90%|█████████ | 855/950 [3:22:55<50:07, 31.66s/it]"
     ]
    }
   ],
   "source": [
    "import os\n",
    "import numpy as np\n",
    "from tqdm import tqdm\n",
    "# Select the duration of the clip to load by specifying the start and end duration\n",
    "# The start_sec should correspond to where the action occurs in the video\n",
    "\n",
    "video_paths = glob.glob('/home/workspaces/datasets/UCF_Crimes/videos/abnormal/*.mp4')\n",
    "tencrop = TenCrop((224,224))\n",
    "\n",
    "batch_size = 8\n",
    "num_crop = 10\n",
    "\n",
    "for video_path in tqdm(video_paths[:]):\n",
    "    save_path = os.path.splitext(video_path.replace('videos', 'features_x3d'))[0] + '.npy'\n",
    "    os.makedirs(os.path.dirname(save_path), exist_ok=True)\n",
    "    \n",
    "    # Initialize an EncodedVideo helper class and load the video\n",
    "    video = EncodedVideo.from_path(video_path)\n",
    "    video_duration = float(video.duration)\n",
    "\n",
    "    # video to features\n",
    "    end_sec = 0\n",
    "    features = []\n",
    "    force_break = False\n",
    "    while(end_sec < video_duration):\n",
    "        if force_break: break\n",
    "        \n",
    "        inputs = []\n",
    "        # load batch frames\n",
    "        for idx in range(batch_size):\n",
    "            if end_sec >= video_duration: break\n",
    "        \n",
    "            start_sec = end_sec\n",
    "            end_sec = start_sec + clip_duration\n",
    "\n",
    "            # Load the desired clip\n",
    "            video_data = video.get_clip(start_sec=start_sec, end_sec=end_sec)\n",
    "            \n",
    "            if video_data['video'] is None:\n",
    "                print(\"force break:\", video_path)\n",
    "                force_break = True\n",
    "                break\n",
    "            \n",
    "            trans_video = transform(video_data)['video']\n",
    "            \n",
    "            # for _ in range(num_crop):\n",
    "                # Apply a transform to normalize the video input\n",
    "                \n",
    "\n",
    "                # Move the inputs to the desired device\n",
    "            \n",
    "            crops = tencrop(trans_video)\n",
    "            \n",
    "            for crop in crops:\n",
    "                inputs.append(crop)\n",
    "                \n",
    "        if not force_break:\n",
    "            inputs = torch.stack(inputs) # [batch_size*num_crop, 3, 16, 224, 224]\n",
    "            # print(inputs.shape)\n",
    "\n",
    "            # encode\n",
    "            with torch.no_grad():\n",
    "                feature = model(inputs.to(device)) # [batch_size*num_crop, 2048]        \n",
    "                features.append(feature)\n",
    "\n",
    "    features = torch.cat(features) # [?*batch_size*num_crop, 2048]\n",
    "    # print(features.shape)\n",
    "    features = torch.reshape(features, (-1, num_crop, 2048)) # [?, num_crop, 2048] == [B, D, F]\n",
    "    # print(features.shape)\n",
    "\n",
    "    features = features.cpu().numpy()\n",
    "    np.save(save_path, features)"
   ]
  },
  {
   "cell_type": "code",
   "execution_count": 144,
   "id": "317181b3-50a8-4fe3-9148-59864088b0ec",
   "metadata": {
    "scrolled": true,
    "tags": []
   },
   "outputs": [
    {
     "name": "stdout",
     "output_type": "stream",
     "text": [
      "drawing\n"
     ]
    },
    {
     "data": {
      "image/png": "[encoded data removed]",
      "text/plain": [
       "<Figure size 144x216 with 1 Axes>"
      ]
     },
     "metadata": {
      "needs_background": "light"
     },
     "output_type": "display_data"
    },
    {
     "name": "stdout",
     "output_type": "stream",
     "text": [
      "drinking\n"
     ]
    },
    {
     "data": {
      "image/png": "[encoded data removed]",
      "text/plain": [
       "<Figure size 144x216 with 1 Axes>"
      ]
     },
     "metadata": {
      "needs_background": "light"
     },
     "output_type": "display_data"
    },
    {
     "name": "stdout",
     "output_type": "stream",
     "text": [
      "capture\n"
     ]
    },
    {
     "data": {
      "image/png": "[encoded data removed]",
      "text/plain": [
       "<Figure size 144x216 with 1 Axes>"
      ]
     },
     "metadata": {
      "needs_background": "light"
     },
     "output_type": "display_data"
    },
    {
     "name": "stdout",
     "output_type": "stream",
     "text": [
      "googling\n"
     ]
    },
    {
     "data": {
      "image/png": "[encoded data removed]",
      "text/plain": [
       "<Figure size 144x216 with 1 Axes>"
      ]
     },
     "metadata": {
      "needs_background": "light"
     },
     "output_type": "display_data"
    },
    {
     "name": "stdout",
     "output_type": "stream",
     "text": [
      "toilet\n"
     ]
    },
    {
     "data": {
      "image/png": "[encoded data removed]",
      "text/plain": [
       "<Figure size 144x216 with 1 Axes>"
      ]
     },
     "metadata": {
      "needs_background": "light"
     },
     "output_type": "display_data"
    },
    {
     "name": "stdout",
     "output_type": "stream",
     "text": [
      "writing\n"
     ]
    },
    {
     "data": {
      "image/png": "[encoded data removed]",
      "text/plain": [
       "<Figure size 144x216 with 1 Axes>"
      ]
     },
     "metadata": {
      "needs_background": "light"
     },
     "output_type": "display_data"
    },
    {
     "name": "stdout",
     "output_type": "stream",
     "text": [
      "normal\n"
     ]
    },
    {
     "data": {
      "image/png": "[encoded data removed]",
      "text/plain": [
       "<Figure size 144x216 with 1 Axes>"
      ]
     },
     "metadata": {
      "needs_background": "light"
     },
     "output_type": "display_data"
    }
   ],
   "source": [
    "video_paths = glob.glob('acts/*.mp4')\n",
    "# video_path = 'drawing.mp4'\n",
    "\n",
    "cnt_dicts = []\n",
    "for video_path in video_paths:\n",
    "    video = EncodedVideo.from_path(video_path)\n",
    "    video_duration = float(video.duration)\n",
    "\n",
    "    cnt_dict = {}\n",
    "    try:\n",
    "        for start_sec in range(2, int(video_duration)-2):\n",
    "\n",
    "            # start_sec += end_sec\n",
    "            end_sec = start_sec + clip_duration\n",
    "\n",
    "            # Load the desired clip\n",
    "            video_data = video.get_clip(start_sec=start_sec, end_sec=end_sec)\n",
    "            cropped_video = transform(video_data)\n",
    "\n",
    "            preds = model(cropped_video['video'].unsqueeze(0).to(device))\n",
    "\n",
    "            # Get the predicted classes\n",
    "            post_act = torch.nn.Softmax(dim=1)\n",
    "            preds = post_act(preds)\n",
    "            pred_classes = preds.topk(k=5).indices[0]\n",
    "\n",
    "            # Map the predicted classes to the label names\n",
    "            pred_class_names = [kinetics_id_to_classname[int(i)] for i in pred_classes]\n",
    "            # print(\"Top 5 predicted labels: %s\" % \", \".join(pred_class_names))\n",
    "            # print(video_path, start_sec, end_sec)\n",
    "\n",
    "\n",
    "            for name in pred_class_names:\n",
    "                if name in cnt_dict:\n",
    "                    cnt_dict[name] += 1\n",
    "                else:\n",
    "                    cnt_dict[name] = 1\n",
    "                    \n",
    "        items = sorted(cnt_dict.items(), key=lambda x: x[1], reverse=True)\n",
    "\n",
    "        items = items[:8]\n",
    "\n",
    "        keys = []\n",
    "        values = []\n",
    "        for key, value in items:\n",
    "            keys.append(key)\n",
    "            values.append(value)\n",
    "\n",
    "        print(video_path.split('/')[-1][:-4])\n",
    "\n",
    "        import matplotlib.pyplot as plt\n",
    "        import numpy as np\n",
    "\n",
    "        x = np.arange(len(keys))\n",
    "        # years = ['2018', '2019', '2020']\n",
    "        # values = [100, 400, 900]\n",
    "\n",
    "        plt.figure(figsize=(int(len(keys)/3),3))\n",
    "\n",
    "        plt.bar(x, values, width=0.8, align='center')\n",
    "        plt.xticks(x, keys, rotation=90)\n",
    "\n",
    "        # plt.show()\n",
    "        # plt.tight_layout()\n",
    "        plt.title(video_path.split('/')[-1][:-4])\n",
    "        plt.gcf().subplots_adjust(bottom=0.15)\n",
    "        plt.savefig('plt_images/' + video_path.split('/')[-1][:-4] + '.png', bbox_inches = \"tight\")\n",
    "        plt.show()            \n",
    "        \n",
    "        cnt_dicts.append(cnt_dict)\n",
    "    except:\n",
    "        print(\"video is too short\")"
   ]
  },
  {
   "cell_type": "code",
   "execution_count": 142,
   "id": "6a908644-cd9f-4704-8861-97b5b88f1bed",
   "metadata": {
    "tags": []
   },
   "outputs": [
    {
     "name": "stdout",
     "output_type": "stream",
     "text": [
      "normal\n"
     ]
    },
    {
     "data": {
      "image/png": "[encoded data removed]",
      "text/plain": [
       "<Figure size 144x216 with 1 Axes>"
      ]
     },
     "metadata": {
      "needs_background": "light"
     },
     "output_type": "display_data"
    }
   ],
   "source": [
    "for idx, cnt_dict in enumerate(cnt_dicts):\n",
    "    \n",
    "    items = sorted(cnt_dict.items(), key=lambda x: x[1], reverse=True)\n",
    "\n",
    "    items = items[:8]\n",
    "    \n",
    "    keys = []\n",
    "    values = []\n",
    "    for key, value in items:\n",
    "        keys.append(key)\n",
    "        values.append(value)\n",
    "\n",
    "    print(video_paths[idx].split('/')[-1][:-4])\n",
    "\n",
    "    import matplotlib.pyplot as plt\n",
    "    import numpy as np\n",
    "\n",
    "    x = np.arange(len(keys))\n",
    "    # years = ['2018', '2019', '2020']\n",
    "    # values = [100, 400, 900]\n",
    "\n",
    "    plt.figure(figsize=(int(len(keys)/3),3))\n",
    "\n",
    "    plt.bar(x, values, width=0.8, align='center')\n",
    "    plt.xticks(x, keys, rotation=90)\n",
    "\n",
    "    # plt.show()\n",
    "    # plt.tight_layout()\n",
    "    plt.title(video_paths[idx].split('/')[-1][:-4])\n",
    "    plt.gcf().subplots_adjust(bottom=0.15)\n",
    "    plt.savefig('plt_images/' + video_paths[idx].split('/')[-1][:-4] + '.png', bbox_inches = \"tight\")\n",
    "    plt.show()"
   ]
  },
  {
   "cell_type": "code",
   "execution_count": null,
   "id": "21bc603a-0314-4a36-8e8e-14268d2f66c3",
   "metadata": {},
   "outputs": [],
   "source": []
  }
 ],
 "metadata": {
  "kernelspec": {
   "display_name": "i3d",
   "language": "python",
   "name": "i3d"
  },
  "language_info": {
   "codemirror_mode": {
    "name": "ipython",
    "version": 3
   },
   "file_extension": ".py",
   "mimetype": "text/x-python",
   "name": "python",
   "nbconvert_exporter": "python",
   "pygments_lexer": "ipython3",
   "version": "3.7.13"
  }
 },
 "nbformat": 4,
 "nbformat_minor": 5
}
